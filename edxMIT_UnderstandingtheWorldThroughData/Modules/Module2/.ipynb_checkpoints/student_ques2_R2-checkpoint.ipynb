{
 "cells": [
  {
   "cell_type": "markdown",
   "metadata": {
    "id": "a5pY6gUJlPQo"
   },
   "source": [
    "<br>\n",
    "<font size=\"+2\"> In this notebook, we will be working on questions in Linear Regression section in Module 2. </font>\n",
    "<br><br>"
   ]
  },
  {
   "cell_type": "markdown",
   "metadata": {
    "id": "1HIQwdYHQn1P"
   },
   "source": [
    "# R2 Questions\n",
    "\n",
    "We will be working with the file `growth_chart.csv` (it is available in the Google Drive folder for this course). The file contains 3 columns. The first represents a person's age in months. The second column represents the person's weight in lbs, for each age. The third column represents the person's height in feet, for each age."
   ]
  },
  {
   "cell_type": "markdown",
   "metadata": {
    "id": "Z1icg3bVMzD5"
   },
   "source": [
    "<font color='#FF4500' size=\"+2\"> To set up your DataFrame for these questions , run the cell below. </font>"
   ]
  },
  {
   "cell_type": "code",
   "execution_count": 2,
   "metadata": {
    "id": "lXk26zw7M3V5"
   },
   "outputs": [
    {
     "data": {
      "text/html": [
       "<div>\n",
       "<style scoped>\n",
       "    .dataframe tbody tr th:only-of-type {\n",
       "        vertical-align: middle;\n",
       "    }\n",
       "\n",
       "    .dataframe tbody tr th {\n",
       "        vertical-align: top;\n",
       "    }\n",
       "\n",
       "    .dataframe thead th {\n",
       "        text-align: right;\n",
       "    }\n",
       "</style>\n",
       "<table border=\"1\" class=\"dataframe\">\n",
       "  <thead>\n",
       "    <tr style=\"text-align: right;\">\n",
       "      <th></th>\n",
       "      <th>age_months</th>\n",
       "      <th>weight_lb</th>\n",
       "      <th>height_ft</th>\n",
       "    </tr>\n",
       "  </thead>\n",
       "  <tbody>\n",
       "    <tr>\n",
       "      <th>0</th>\n",
       "      <td>24.0</td>\n",
       "      <td>27.875672</td>\n",
       "      <td>2.836358</td>\n",
       "    </tr>\n",
       "    <tr>\n",
       "      <th>1</th>\n",
       "      <td>24.5</td>\n",
       "      <td>28.031388</td>\n",
       "      <td>2.849790</td>\n",
       "    </tr>\n",
       "    <tr>\n",
       "      <th>2</th>\n",
       "      <td>25.5</td>\n",
       "      <td>28.338244</td>\n",
       "      <td>2.875737</td>\n",
       "    </tr>\n",
       "    <tr>\n",
       "      <th>3</th>\n",
       "      <td>26.5</td>\n",
       "      <td>28.640524</td>\n",
       "      <td>2.901026</td>\n",
       "    </tr>\n",
       "    <tr>\n",
       "      <th>4</th>\n",
       "      <td>27.5</td>\n",
       "      <td>28.939900</td>\n",
       "      <td>2.925705</td>\n",
       "    </tr>\n",
       "    <tr>\n",
       "      <th>...</th>\n",
       "      <td>...</td>\n",
       "      <td>...</td>\n",
       "      <td>...</td>\n",
       "    </tr>\n",
       "    <tr>\n",
       "      <th>213</th>\n",
       "      <td>236.5</td>\n",
       "      <td>154.524854</td>\n",
       "      <td>5.800240</td>\n",
       "    </tr>\n",
       "    <tr>\n",
       "      <th>214</th>\n",
       "      <td>237.5</td>\n",
       "      <td>154.770880</td>\n",
       "      <td>5.800814</td>\n",
       "    </tr>\n",
       "    <tr>\n",
       "      <th>215</th>\n",
       "      <td>238.5</td>\n",
       "      <td>155.002012</td>\n",
       "      <td>5.801362</td>\n",
       "    </tr>\n",
       "    <tr>\n",
       "      <th>216</th>\n",
       "      <td>239.5</td>\n",
       "      <td>155.215544</td>\n",
       "      <td>5.801886</td>\n",
       "    </tr>\n",
       "    <tr>\n",
       "      <th>217</th>\n",
       "      <td>240.0</td>\n",
       "      <td>155.314742</td>\n",
       "      <td>5.802139</td>\n",
       "    </tr>\n",
       "  </tbody>\n",
       "</table>\n",
       "<p>218 rows × 3 columns</p>\n",
       "</div>"
      ],
      "text/plain": [
       "     age_months   weight_lb  height_ft\n",
       "0          24.0   27.875672   2.836358\n",
       "1          24.5   28.031388   2.849790\n",
       "2          25.5   28.338244   2.875737\n",
       "3          26.5   28.640524   2.901026\n",
       "4          27.5   28.939900   2.925705\n",
       "..          ...         ...        ...\n",
       "213       236.5  154.524854   5.800240\n",
       "214       237.5  154.770880   5.800814\n",
       "215       238.5  155.002012   5.801362\n",
       "216       239.5  155.215544   5.801886\n",
       "217       240.0  155.314742   5.802139\n",
       "\n",
       "[218 rows x 3 columns]"
      ]
     },
     "execution_count": 2,
     "metadata": {},
     "output_type": "execute_result"
    }
   ],
   "source": [
    "#from google.colab import drive\n",
    "#drive.mount('/content/drive/', force_remount=True)\n",
    "\n",
    "import os\n",
    "#os.chdir(\"/content/drive/My Drive/AIMOOC\")\n",
    "\n",
    "import pandas as pd\n",
    "df = pd.read_csv(\"Data/growth_chart.csv\")\n",
    "df"
   ]
  },
  {
   "cell_type": "markdown",
   "metadata": {
    "id": "f-yhtA0YQw-5"
   },
   "source": [
    "## Question 1"
   ]
  },
  {
   "cell_type": "markdown",
   "metadata": {
    "id": "-d3_opvSRSPE"
   },
   "source": [
    "### Part A\n",
    "\n",
    "Your first task is to run a linear regression model to find the best fit line."
   ]
  },
  {
   "cell_type": "code",
   "execution_count": 4,
   "metadata": {
    "id": "5UUZ90jqRVjN"
   },
   "outputs": [
    {
     "name": "stdout",
     "output_type": "stream",
     "text": [
      "\n",
      " weight_lb\n",
      "Coefficients: [0.66880793]\n",
      "Intercept: -1.2712176066453367\n",
      "MSQERR 35.88189332985093\n",
      "R2 0.9801414470575767\n",
      "\n",
      " height_ft\n",
      "Coefficients: [0.01464308]\n",
      "Intercept: 2.7295209964193856\n",
      "MSQERR 0.020808661956384165\n",
      "R2 0.9760751710835559\n"
     ]
    },
    {
     "data": {
      "text/plain": [
       "Text(0.5, 1.0, 'Height Values for 10 Ages (with Best Fit Line)')"
      ]
     },
     "execution_count": 4,
     "metadata": {},
     "output_type": "execute_result"
    },
    {
     "data": {
      "image/png": "[encoded data removed]",
      "text/plain": [
       "<Figure size 640x480 with 1 Axes>"
      ]
     },
     "metadata": {},
     "output_type": "display_data"
    }
   ],
   "source": [
    "import pandas as pd\n",
    "import sklearn.linear_model as lm \n",
    "import matplotlib.pyplot as plt\n",
    "from sklearn.metrics import mean_squared_error\n",
    "\n",
    "def do_fit(x, y):\n",
    "  # do linear regression and print the slope and y-intercept\n",
    "  lin_reg = lm.LinearRegression()\n",
    "  lin_reg.fit(x, y) \n",
    "  print('\\n',y.name)\n",
    "  print('Coefficients:', lin_reg.coef_)\n",
    "  print('Intercept:', lin_reg.intercept_)\n",
    "\n",
    "  # create a new figure, plot all the data points and the best fit line\n",
    "  #plt.figure()\n",
    "  plt.scatter(x, y)\n",
    "  ypred = lin_reg.predict(x)\n",
    "  plt.plot(x, ypred)\n",
    "\n",
    "  # calculate and print mean squared error and R2\n",
    "  print(\"MSQERR\", mean_squared_error(y, ypred))\n",
    "  print(\"R2\", lin_reg.score(x, y))\n",
    "  \n",
    "pd.set_option('display.max_columns', 500)\n",
    "\n",
    "x = df[[\"age_months\"]]\n",
    "y1 = df[\"weight_lb\"]\n",
    "y2 = df[\"height_ft\"]\n",
    "\n",
    "do_fit(x, y1)\n",
    "plt.xlabel(\"Age in months\")\n",
    "plt.ylabel(\"Weight in lb\")\n",
    "plt.title(\"Weight Values for 10 Ages (with Best Fit Line)\")\n",
    "\n",
    "do_fit(x, y2)\n",
    "plt.xlabel(\"Age in months\")\n",
    "plt.ylabel(\"Height in ft\")\n",
    "plt.title(\"Height Values for 10 Ages (with Best Fit Line)\")\n"
   ]
  },
  {
   "cell_type": "markdown",
   "metadata": {
    "id": "6mOhLuGTRYFP"
   },
   "source": [
    "#### For a person's weight, the slope for the best-fit line is: "
   ]
  },
  {
   "cell_type": "code",
   "execution_count": null,
   "metadata": {
    "id": "qG_lx7nuTfhP"
   },
   "outputs": [],
   "source": [
    "#above"
   ]
  },
  {
   "cell_type": "markdown",
   "metadata": {
    "id": "xXiXhc_jTO3Z"
   },
   "source": [
    "#### For a person's weight, the y-intercept for the best-fit line is: "
   ]
  },
  {
   "cell_type": "code",
   "execution_count": null,
   "metadata": {
    "id": "qSoo-te9R6q2"
   },
   "outputs": [],
   "source": [
    "#above"
   ]
  },
  {
   "cell_type": "markdown",
   "metadata": {
    "id": "4ycCJuliTaW1"
   },
   "source": [
    "#### For a person's height, the slope for the best-fit line is: "
   ]
  },
  {
   "cell_type": "code",
   "execution_count": null,
   "metadata": {
    "id": "xxxgtpkDTaW1"
   },
   "outputs": [],
   "source": [
    "#above"
   ]
  },
  {
   "cell_type": "markdown",
   "metadata": {
    "id": "dj6KfLIxTanB"
   },
   "source": [
    "#### For a person's height, the y-intercept for the best-fit line is: "
   ]
  },
  {
   "cell_type": "code",
   "execution_count": null,
   "metadata": {
    "id": "itHAMGUtTanB"
   },
   "outputs": [],
   "source": [
    "#above"
   ]
  },
  {
   "cell_type": "markdown",
   "metadata": {
    "id": "6dZDAp5dR-Ja"
   },
   "source": [
    "### Part B\n",
    "\n",
    "Next, compute the R^2 and mean-squared-error values for the best-fit lines to a person's weight and height data."
   ]
  },
  {
   "cell_type": "markdown",
   "metadata": {
    "id": "gS-HRvVaSNlH"
   },
   "source": [
    "#### For a person's weight, the R^2 for the best-fit line is:  "
   ]
  },
  {
   "cell_type": "code",
   "execution_count": null,
   "metadata": {
    "id": "czQ32fl-SYm3"
   },
   "outputs": [],
   "source": [
    "#above"
   ]
  },
  {
   "cell_type": "markdown",
   "metadata": {
    "id": "gUrjB0psToyJ"
   },
   "source": [
    "#### For a person's weight, the mean-squared-error for the best-fit line is: "
   ]
  },
  {
   "cell_type": "code",
   "execution_count": null,
   "metadata": {
    "id": "05Ri552fTqhq"
   },
   "outputs": [],
   "source": [
    "#above"
   ]
  },
  {
   "cell_type": "markdown",
   "metadata": {
    "id": "FtmSYC0sTr1H"
   },
   "source": [
    "#### For a person's height, the R^2 for the best-fit line is: "
   ]
  },
  {
   "cell_type": "code",
   "execution_count": null,
   "metadata": {
    "id": "UQs-5E99Tr1H"
   },
   "outputs": [],
   "source": [
    "#above"
   ]
  },
  {
   "cell_type": "markdown",
   "metadata": {
    "id": "A9YHOfn-TsII"
   },
   "source": [
    "#### For a person's height, the mean-squared-error for the best-fit line is:"
   ]
  },
  {
   "cell_type": "code",
   "execution_count": null,
   "metadata": {
    "id": "c3qYp7W3TsII"
   },
   "outputs": [],
   "source": [
    "#above"
   ]
  }
 ],
 "metadata": {
  "colab": {
   "collapsed_sections": [],
   "name": "student_ques2_R2.ipynb",
   "provenance": []
  },
  "kernelspec": {
   "display_name": "Python 3 (ipykernel)",
   "language": "python",
   "name": "python3"
  },
  "language_info": {
   "codemirror_mode": {
    "name": "ipython",
    "version": 3
   },
   "file_extension": ".py",
   "mimetype": "text/x-python",
   "name": "python",
   "nbconvert_exporter": "python",
   "pygments_lexer": "ipython3",
   "version": "3.11.4"
  }
 },
 "nbformat": 4,
 "nbformat_minor": 1
}
