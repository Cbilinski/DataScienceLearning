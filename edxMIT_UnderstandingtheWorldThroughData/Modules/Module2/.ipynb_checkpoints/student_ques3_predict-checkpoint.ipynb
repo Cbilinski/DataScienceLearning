{
 "cells": [
  {
   "cell_type": "markdown",
   "metadata": {
    "id": "ppCVwkSc2ID6"
   },
   "source": [
    "# Reading, Writing, and Math Scores"
   ]
  },
  {
   "cell_type": "code",
   "execution_count": 1,
   "metadata": {
    "colab": {
     "base_uri": "https://localhost:8080/"
    },
    "executionInfo": {
     "elapsed": 2648,
     "status": "ok",
     "timestamp": 1629305440299,
     "user": {
      "displayName": "edX TMMD",
      "photoUrl": "",
      "userId": "06777248648375615678"
     },
     "user_tz": 240
    },
    "id": "HefhT6NIJeZQ",
    "outputId": "7d8f25eb-41de-425d-f752-ef10da52c933"
   },
   "outputs": [
    {
     "name": "stdout",
     "output_type": "stream",
     "text": [
      "Capstone\n",
      "Data\n",
      "student_lec1_linear_regression.ipynb\n",
      "student_lec2_R2.ipynb\n",
      "student_lec3_predict.ipynb\n",
      "student_lec4_multiple_linear_regression.ipynb\n",
      "student_lec5_linear_regression_quadratic.ipynb\n",
      "student_lec6_overfitting.ipynb\n",
      "student_ques1_linear_regression.ipynb\n",
      "student_ques2_R2.ipynb\n",
      "student_ques3_predict.ipynb\n",
      "student_ques6_polynomial.ipynb\n"
     ]
    }
   ],
   "source": [
    "#from google.colab import drive\n",
    "#drive.mount('/content/drive/', force_remount=True)\n",
    "\n",
    "import os\n",
    "#os.chdir(\"/content/drive/My Drive/AIMOOC\")\n",
    "!ls\n",
    "\n",
    "import pandas as pd\n",
    "import sklearn.linear_model as lm\n",
    "import matplotlib.pyplot as plt"
   ]
  },
  {
   "cell_type": "markdown",
   "metadata": {
    "id": "b-4bFMCnBBkm"
   },
   "source": [
    "This dataset contains information on some students and their grades. Run the cell below and take a look at the data."
   ]
  },
  {
   "cell_type": "code",
   "execution_count": 2,
   "metadata": {
    "colab": {
     "base_uri": "https://localhost:8080/",
     "height": 436
    },
    "executionInfo": {
     "elapsed": 186,
     "status": "ok",
     "timestamp": 1629305505873,
     "user": {
      "displayName": "edX TMMD",
      "photoUrl": "",
      "userId": "06777248648375615678"
     },
     "user_tz": 240
    },
    "id": "xFjqn2eS1hbm",
    "outputId": "20bcf996-cd55-43fa-db39-295180d75a89"
   },
   "outputs": [
    {
     "data": {
      "text/html": [
       "<div>\n",
       "<style scoped>\n",
       "    .dataframe tbody tr th:only-of-type {\n",
       "        vertical-align: middle;\n",
       "    }\n",
       "\n",
       "    .dataframe tbody tr th {\n",
       "        vertical-align: top;\n",
       "    }\n",
       "\n",
       "    .dataframe thead th {\n",
       "        text-align: right;\n",
       "    }\n",
       "</style>\n",
       "<table border=\"1\" class=\"dataframe\">\n",
       "  <thead>\n",
       "    <tr style=\"text-align: right;\">\n",
       "      <th></th>\n",
       "      <th>gender</th>\n",
       "      <th>race/ethnicity</th>\n",
       "      <th>parental level of education</th>\n",
       "      <th>lunch</th>\n",
       "      <th>test preparation course</th>\n",
       "      <th>math score</th>\n",
       "      <th>reading score</th>\n",
       "      <th>writing score</th>\n",
       "    </tr>\n",
       "  </thead>\n",
       "  <tbody>\n",
       "    <tr>\n",
       "      <th>0</th>\n",
       "      <td>female</td>\n",
       "      <td>group B</td>\n",
       "      <td>bachelor's degree</td>\n",
       "      <td>standard</td>\n",
       "      <td>none</td>\n",
       "      <td>72</td>\n",
       "      <td>72</td>\n",
       "      <td>74</td>\n",
       "    </tr>\n",
       "    <tr>\n",
       "      <th>1</th>\n",
       "      <td>female</td>\n",
       "      <td>group C</td>\n",
       "      <td>some college</td>\n",
       "      <td>standard</td>\n",
       "      <td>completed</td>\n",
       "      <td>69</td>\n",
       "      <td>90</td>\n",
       "      <td>88</td>\n",
       "    </tr>\n",
       "    <tr>\n",
       "      <th>2</th>\n",
       "      <td>female</td>\n",
       "      <td>group B</td>\n",
       "      <td>master's degree</td>\n",
       "      <td>standard</td>\n",
       "      <td>none</td>\n",
       "      <td>90</td>\n",
       "      <td>95</td>\n",
       "      <td>93</td>\n",
       "    </tr>\n",
       "    <tr>\n",
       "      <th>3</th>\n",
       "      <td>male</td>\n",
       "      <td>group A</td>\n",
       "      <td>associate's degree</td>\n",
       "      <td>free/reduced</td>\n",
       "      <td>none</td>\n",
       "      <td>47</td>\n",
       "      <td>57</td>\n",
       "      <td>44</td>\n",
       "    </tr>\n",
       "    <tr>\n",
       "      <th>4</th>\n",
       "      <td>male</td>\n",
       "      <td>group C</td>\n",
       "      <td>some college</td>\n",
       "      <td>standard</td>\n",
       "      <td>none</td>\n",
       "      <td>76</td>\n",
       "      <td>78</td>\n",
       "      <td>75</td>\n",
       "    </tr>\n",
       "    <tr>\n",
       "      <th>...</th>\n",
       "      <td>...</td>\n",
       "      <td>...</td>\n",
       "      <td>...</td>\n",
       "      <td>...</td>\n",
       "      <td>...</td>\n",
       "      <td>...</td>\n",
       "      <td>...</td>\n",
       "      <td>...</td>\n",
       "    </tr>\n",
       "    <tr>\n",
       "      <th>995</th>\n",
       "      <td>female</td>\n",
       "      <td>group E</td>\n",
       "      <td>master's degree</td>\n",
       "      <td>standard</td>\n",
       "      <td>completed</td>\n",
       "      <td>88</td>\n",
       "      <td>99</td>\n",
       "      <td>95</td>\n",
       "    </tr>\n",
       "    <tr>\n",
       "      <th>996</th>\n",
       "      <td>male</td>\n",
       "      <td>group C</td>\n",
       "      <td>high school</td>\n",
       "      <td>free/reduced</td>\n",
       "      <td>none</td>\n",
       "      <td>62</td>\n",
       "      <td>55</td>\n",
       "      <td>55</td>\n",
       "    </tr>\n",
       "    <tr>\n",
       "      <th>997</th>\n",
       "      <td>female</td>\n",
       "      <td>group C</td>\n",
       "      <td>high school</td>\n",
       "      <td>free/reduced</td>\n",
       "      <td>completed</td>\n",
       "      <td>59</td>\n",
       "      <td>71</td>\n",
       "      <td>65</td>\n",
       "    </tr>\n",
       "    <tr>\n",
       "      <th>998</th>\n",
       "      <td>female</td>\n",
       "      <td>group D</td>\n",
       "      <td>some college</td>\n",
       "      <td>standard</td>\n",
       "      <td>completed</td>\n",
       "      <td>68</td>\n",
       "      <td>78</td>\n",
       "      <td>77</td>\n",
       "    </tr>\n",
       "    <tr>\n",
       "      <th>999</th>\n",
       "      <td>female</td>\n",
       "      <td>group D</td>\n",
       "      <td>some college</td>\n",
       "      <td>free/reduced</td>\n",
       "      <td>none</td>\n",
       "      <td>77</td>\n",
       "      <td>86</td>\n",
       "      <td>86</td>\n",
       "    </tr>\n",
       "  </tbody>\n",
       "</table>\n",
       "<p>1000 rows × 8 columns</p>\n",
       "</div>"
      ],
      "text/plain": [
       "     gender race/ethnicity parental level of education         lunch  \\\n",
       "0    female        group B           bachelor's degree      standard   \n",
       "1    female        group C                some college      standard   \n",
       "2    female        group B             master's degree      standard   \n",
       "3      male        group A          associate's degree  free/reduced   \n",
       "4      male        group C                some college      standard   \n",
       "..      ...            ...                         ...           ...   \n",
       "995  female        group E             master's degree      standard   \n",
       "996    male        group C                 high school  free/reduced   \n",
       "997  female        group C                 high school  free/reduced   \n",
       "998  female        group D                some college      standard   \n",
       "999  female        group D                some college  free/reduced   \n",
       "\n",
       "    test preparation course  math score  reading score  writing score  \n",
       "0                      none          72             72             74  \n",
       "1                 completed          69             90             88  \n",
       "2                      none          90             95             93  \n",
       "3                      none          47             57             44  \n",
       "4                      none          76             78             75  \n",
       "..                      ...         ...            ...            ...  \n",
       "995               completed          88             99             95  \n",
       "996                    none          62             55             55  \n",
       "997               completed          59             71             65  \n",
       "998               completed          68             78             77  \n",
       "999                    none          77             86             86  \n",
       "\n",
       "[1000 rows x 8 columns]"
      ]
     },
     "execution_count": 2,
     "metadata": {},
     "output_type": "execute_result"
    }
   ],
   "source": [
    "df = pd.read_csv(\"Data/students.csv\")\n",
    "df"
   ]
  },
  {
   "cell_type": "markdown",
   "metadata": {
    "id": "vz_2aBYyzWCU"
   },
   "source": [
    "## Question 1"
   ]
  },
  {
   "cell_type": "markdown",
   "metadata": {
    "id": "DuZsWYpiBgLd"
   },
   "source": [
    "In your notebook, make two plots. In the first one, plot the reading score on the x-axis and the writing score on the y-axis. In the second, plot the reading score on the x-axis and the math score on the y-axis. "
   ]
  },
  {
   "cell_type": "code",
   "execution_count": 5,
   "metadata": {
    "id": "ZL0EUFB6CLoZ"
   },
   "outputs": [
    {
     "data": {
      "text/plain": [
       "Text(0.5, 1.0, 'math')"
      ]
     },
     "execution_count": 5,
     "metadata": {},
     "output_type": "execute_result"
    },
    {
     "data": {
      "image/png": "[encoded data removed]",
      "text/plain": [
       "<Figure size 640x480 with 1 Axes>"
      ]
     },
     "metadata": {},
     "output_type": "display_data"
    }
   ],
   "source": [
    "x = df[[\"reading score\"]]\n",
    "y1 = df[\"writing score\"]\n",
    "y2 = df[\"math score\"]\n",
    "\n",
    "plt.scatter(x, y1)\n",
    "plt.xlabel(\"x\")\n",
    "plt.ylabel(\"y1\")\n",
    "plt.title(\"writing\")\n",
    "\n",
    "plt.scatter(x, y2)\n",
    "plt.xlabel(\"x\")\n",
    "plt.ylabel(\"y2\")\n",
    "plt.title(\"math\")"
   ]
  },
  {
   "cell_type": "markdown",
   "metadata": {
    "id": "dcNX1ooLzXeU"
   },
   "source": [
    "## Question 2"
   ]
  },
  {
   "cell_type": "markdown",
   "metadata": {
    "id": "TH9LKIocCOEi"
   },
   "source": [
    "Using linear regression, find the line of best fit for data where the independent variable is the reading score and the dependent variable is the writing score. What is the R^2 value for the fit?"
   ]
  },
  {
   "cell_type": "code",
   "execution_count": 7,
   "metadata": {
    "id": "VBECggN6CzwF"
   },
   "outputs": [
    {
     "name": "stdout",
     "output_type": "stream",
     "text": [
      "Score: 0.9112574888913137\n"
     ]
    }
   ],
   "source": [
    "lin_reg1 = lm.LinearRegression()\n",
    "lin_reg1.fit(x, y1) \n",
    "print('Score:', lin_reg1.score(x,y1))"
   ]
  },
  {
   "cell_type": "markdown",
   "metadata": {
    "id": "maT2WLWjzFjI"
   },
   "source": [
    "Let's now use our model. Predict the writing score of a student with a reading score of 60."
   ]
  },
  {
   "cell_type": "code",
   "execution_count": 9,
   "metadata": {
    "id": "Sx9OTDeQzE99"
   },
   "outputs": [
    {
     "name": "stderr",
     "output_type": "stream",
     "text": [
      "C:\\Users\\Cbilinski\\anaconda3\\Lib\\site-packages\\sklearn\\base.py:464: UserWarning: X does not have valid feature names, but LinearRegression was fitted with feature names\n",
      "  warnings.warn(\n"
     ]
    },
    {
     "data": {
      "text/plain": [
       "array([58.94431321])"
      ]
     },
     "execution_count": 9,
     "metadata": {},
     "output_type": "execute_result"
    }
   ],
   "source": [
    "lin_reg1.predict([[60]])"
   ]
  },
  {
   "cell_type": "markdown",
   "metadata": {
    "id": "mnaBy9iuzarQ"
   },
   "source": [
    "## Question 3"
   ]
  },
  {
   "cell_type": "markdown",
   "metadata": {
    "id": "9EBUPgOyyZXe"
   },
   "source": [
    "Using linear regression, find the line of best fit for data where the independent variable is the reading score and the dependent variable is the math score. What is the R^2 value for the fit?"
   ]
  },
  {
   "cell_type": "code",
   "execution_count": 11,
   "metadata": {
    "id": "EmiuL3TPya6w"
   },
   "outputs": [
    {
     "name": "stdout",
     "output_type": "stream",
     "text": [
      "Score: 0.668436506450109\n"
     ]
    }
   ],
   "source": [
    "lin_reg2 = lm.LinearRegression()\n",
    "lin_reg2.fit(x, y2) \n",
    "print('Score:', lin_reg2.score(x,y2))"
   ]
  },
  {
   "cell_type": "markdown",
   "metadata": {
    "id": "LNRdkajLzc-1"
   },
   "source": [
    "Let's now use our model. Predict the math score of a student with a reading score of 60."
   ]
  },
  {
   "cell_type": "code",
   "execution_count": 12,
   "metadata": {},
   "outputs": [
    {
     "name": "stderr",
     "output_type": "stream",
     "text": [
      "C:\\Users\\Cbilinski\\anaconda3\\Lib\\site-packages\\sklearn\\base.py:464: UserWarning: X does not have valid feature names, but LinearRegression was fitted with feature names\n",
      "  warnings.warn(\n"
     ]
    },
    {
     "data": {
      "text/plain": [
       "array([58.30360025])"
      ]
     },
     "execution_count": 12,
     "metadata": {},
     "output_type": "execute_result"
    }
   ],
   "source": [
    "lin_reg2.predict([[60]])"
   ]
  },
  {
   "cell_type": "markdown",
   "metadata": {
    "id": "5tUoI4e_zhAz"
   },
   "source": [
    "## Question 4"
   ]
  },
  {
   "cell_type": "markdown",
   "metadata": {
    "id": "vZ9dPPHqGdxj"
   },
   "source": [
    "Compare the range of plots that show a vertical slice of the graphs plotting (1) the reading score vs. writing score and (2) the reading score vs the math score. In both cases the slice is taken where the reading score on the x-axis is 60. \n",
    "\n",
    "When the reading score is 60, does the writing score or the math score have a larger spread (i.e. range of values at this x-value)?"
   ]
  },
  {
   "cell_type": "code",
   "execution_count": null,
   "metadata": {
    "id": "qHJGsO_1HCzd"
   },
   "outputs": [],
   "source": [
    "# The math scores have a larger spread."
   ]
  },
  {
   "cell_type": "markdown",
   "metadata": {
    "id": "a6dUWnMXKBSe"
   },
   "source": [
    "In this problem we computed: \n",
    "\n",
    "* R^2 values for a best fit line between reading and writing scores\n",
    "* R^2 values for a best fit line between reading and math scores\n",
    "\n",
    "We also compared the range of possible writing and math scores for a fixed reading score. \n",
    "\n",
    "Using this information, what conclusions can you make based on the data in this problem? Which of the following are correct? Check all that apply. "
   ]
  }
 ],
 "metadata": {
  "colab": {
   "collapsed_sections": [],
   "name": "student_ques3_predict.ipynb",
   "provenance": [
    {
     "file_id": "1wBs_UZaVvuoMa89qKUMXjORLfSDiBMiI",
     "timestamp": 1627578955501
    }
   ]
  },
  "kernelspec": {
   "display_name": "Python 3 (ipykernel)",
   "language": "python",
   "name": "python3"
  },
  "language_info": {
   "codemirror_mode": {
    "name": "ipython",
    "version": 3
   },
   "file_extension": ".py",
   "mimetype": "text/x-python",
   "name": "python",
   "nbconvert_exporter": "python",
   "pygments_lexer": "ipython3",
   "version": "3.11.4"
  }
 },
 "nbformat": 4,
 "nbformat_minor": 1
}
