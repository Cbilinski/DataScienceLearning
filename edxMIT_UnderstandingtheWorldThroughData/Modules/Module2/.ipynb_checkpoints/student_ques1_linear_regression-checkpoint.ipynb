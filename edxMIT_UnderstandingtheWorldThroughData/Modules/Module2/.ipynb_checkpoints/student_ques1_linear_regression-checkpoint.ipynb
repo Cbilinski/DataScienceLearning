{
 "cells": [
  {
   "cell_type": "markdown",
   "metadata": {
    "id": "pDBavpqzlHeg"
   },
   "source": [
    "<br>\n",
    "<font size=\"+2\"> In this notebook, we will be working on questions in the Linear Regression section in Module 2. </font>\n",
    "<br><br>"
   ]
  },
  {
   "cell_type": "markdown",
   "metadata": {
    "id": "2aiiAqGSMUwR"
   },
   "source": [
    "# LR Questions\n",
    "\n",
    "We will be working with the file `mystery_cars.csv` (it is available in the Google Drive folder for this course). The file contains 4 columns. The first represents a number of gallons used for a drive. The second column represents how many miles `Car_A` drove on each number of gallons. The third column represents how many miles `Car_B` drove on each number of gallons. The last column represents how many miles `Car_C` drove on each number of gallons.\n",
    "<br><br>"
   ]
  },
  {
   "cell_type": "markdown",
   "metadata": {
    "id": "Z1icg3bVMzD5"
   },
   "source": [
    "<font color='#FF4500' size=\"+2\"> To set up your DataFrame for these questions , run the cell below. </font>"
   ]
  },
  {
   "cell_type": "code",
   "execution_count": 2,
   "metadata": {
    "id": "lXk26zw7M3V5"
   },
   "outputs": [
    {
     "data": {
      "text/html": [
       "<div>\n",
       "<style scoped>\n",
       "    .dataframe tbody tr th:only-of-type {\n",
       "        vertical-align: middle;\n",
       "    }\n",
       "\n",
       "    .dataframe tbody tr th {\n",
       "        vertical-align: top;\n",
       "    }\n",
       "\n",
       "    .dataframe thead th {\n",
       "        text-align: right;\n",
       "    }\n",
       "</style>\n",
       "<table border=\"1\" class=\"dataframe\">\n",
       "  <thead>\n",
       "    <tr style=\"text-align: right;\">\n",
       "      <th></th>\n",
       "      <th>Gallons</th>\n",
       "      <th>Miles_Car_A</th>\n",
       "      <th>Miles_Car_B</th>\n",
       "      <th>Miles_Car_C</th>\n",
       "    </tr>\n",
       "  </thead>\n",
       "  <tbody>\n",
       "    <tr>\n",
       "      <th>0</th>\n",
       "      <td>0</td>\n",
       "      <td>0</td>\n",
       "      <td>0</td>\n",
       "      <td>0</td>\n",
       "    </tr>\n",
       "    <tr>\n",
       "      <th>1</th>\n",
       "      <td>1</td>\n",
       "      <td>37</td>\n",
       "      <td>18</td>\n",
       "      <td>29</td>\n",
       "    </tr>\n",
       "    <tr>\n",
       "      <th>2</th>\n",
       "      <td>2</td>\n",
       "      <td>58</td>\n",
       "      <td>30</td>\n",
       "      <td>59</td>\n",
       "    </tr>\n",
       "    <tr>\n",
       "      <th>3</th>\n",
       "      <td>3</td>\n",
       "      <td>115</td>\n",
       "      <td>54</td>\n",
       "      <td>101</td>\n",
       "    </tr>\n",
       "    <tr>\n",
       "      <th>4</th>\n",
       "      <td>4</td>\n",
       "      <td>152</td>\n",
       "      <td>70</td>\n",
       "      <td>120</td>\n",
       "    </tr>\n",
       "    <tr>\n",
       "      <th>5</th>\n",
       "      <td>5</td>\n",
       "      <td>158</td>\n",
       "      <td>106</td>\n",
       "      <td>132</td>\n",
       "    </tr>\n",
       "    <tr>\n",
       "      <th>6</th>\n",
       "      <td>6</td>\n",
       "      <td>194</td>\n",
       "      <td>128</td>\n",
       "      <td>146</td>\n",
       "    </tr>\n",
       "    <tr>\n",
       "      <th>7</th>\n",
       "      <td>7</td>\n",
       "      <td>217</td>\n",
       "      <td>116</td>\n",
       "      <td>197</td>\n",
       "    </tr>\n",
       "    <tr>\n",
       "      <th>8</th>\n",
       "      <td>8</td>\n",
       "      <td>269</td>\n",
       "      <td>132</td>\n",
       "      <td>204</td>\n",
       "    </tr>\n",
       "    <tr>\n",
       "      <th>9</th>\n",
       "      <td>9</td>\n",
       "      <td>294</td>\n",
       "      <td>188</td>\n",
       "      <td>246</td>\n",
       "    </tr>\n",
       "    <tr>\n",
       "      <th>10</th>\n",
       "      <td>10</td>\n",
       "      <td>297</td>\n",
       "      <td>196</td>\n",
       "      <td>312</td>\n",
       "    </tr>\n",
       "    <tr>\n",
       "      <th>11</th>\n",
       "      <td>11</td>\n",
       "      <td>381</td>\n",
       "      <td>196</td>\n",
       "      <td>386</td>\n",
       "    </tr>\n",
       "    <tr>\n",
       "      <th>12</th>\n",
       "      <td>12</td>\n",
       "      <td>404</td>\n",
       "      <td>223</td>\n",
       "      <td>385</td>\n",
       "    </tr>\n",
       "    <tr>\n",
       "      <th>13</th>\n",
       "      <td>13</td>\n",
       "      <td>468</td>\n",
       "      <td>232</td>\n",
       "      <td>382</td>\n",
       "    </tr>\n",
       "    <tr>\n",
       "      <th>14</th>\n",
       "      <td>14</td>\n",
       "      <td>550</td>\n",
       "      <td>306</td>\n",
       "      <td>466</td>\n",
       "    </tr>\n",
       "    <tr>\n",
       "      <th>15</th>\n",
       "      <td>15</td>\n",
       "      <td>589</td>\n",
       "      <td>259</td>\n",
       "      <td>459</td>\n",
       "    </tr>\n",
       "    <tr>\n",
       "      <th>16</th>\n",
       "      <td>16</td>\n",
       "      <td>591</td>\n",
       "      <td>277</td>\n",
       "      <td>480</td>\n",
       "    </tr>\n",
       "  </tbody>\n",
       "</table>\n",
       "</div>"
      ],
      "text/plain": [
       "    Gallons  Miles_Car_A  Miles_Car_B  Miles_Car_C\n",
       "0         0            0            0            0\n",
       "1         1           37           18           29\n",
       "2         2           58           30           59\n",
       "3         3          115           54          101\n",
       "4         4          152           70          120\n",
       "5         5          158          106          132\n",
       "6         6          194          128          146\n",
       "7         7          217          116          197\n",
       "8         8          269          132          204\n",
       "9         9          294          188          246\n",
       "10       10          297          196          312\n",
       "11       11          381          196          386\n",
       "12       12          404          223          385\n",
       "13       13          468          232          382\n",
       "14       14          550          306          466\n",
       "15       15          589          259          459\n",
       "16       16          591          277          480"
      ]
     },
     "execution_count": 2,
     "metadata": {},
     "output_type": "execute_result"
    }
   ],
   "source": [
    "#from google.colab import drive\n",
    "#drive.mount('/content/drive/', force_remount=True)\n",
    "\n",
    "import os\n",
    "#os.chdir(\"/content/drive/My Drive/AIMOOC\")\n",
    "\n",
    "import pandas as pd\n",
    "df = pd.read_csv(\"Data/mystery_cars.csv\")\n",
    "df"
   ]
  },
  {
   "cell_type": "markdown",
   "metadata": {
    "id": "r1o_34iyMYCp"
   },
   "source": [
    "## Question 1\n",
    "\n",
    "Your task is to run a linear regression model to find the **slope** and **y-intercept** for each mystery car.\n"
   ]
  },
  {
   "cell_type": "code",
   "execution_count": 3,
   "metadata": {
    "id": "E97yvpqhNDxs"
   },
   "outputs": [
    {
     "data": {
      "text/html": [
       "<style>#sk-container-id-1 {color: black;}#sk-container-id-1 pre{padding: 0;}#sk-container-id-1 div.sk-toggleable {background-color: white;}#sk-container-id-1 label.sk-toggleable__label {cursor: pointer;display: block;width: 100%;margin-bottom: 0;padding: 0.3em;box-sizing: border-box;text-align: center;}#sk-container-id-1 label.sk-toggleable__label-arrow:before {content: \"▸\";float: left;margin-right: 0.25em;color: #696969;}#sk-container-id-1 label.sk-toggleable__label-arrow:hover:before {color: black;}#sk-container-id-1 div.sk-estimator:hover label.sk-toggleable__label-arrow:before {color: black;}#sk-container-id-1 div.sk-toggleable__content {max-height: 0;max-width: 0;overflow: hidden;text-align: left;background-color: #f0f8ff;}#sk-container-id-1 div.sk-toggleable__content pre {margin: 0.2em;color: black;border-radius: 0.25em;background-color: #f0f8ff;}#sk-container-id-1 input.sk-toggleable__control:checked~div.sk-toggleable__content {max-height: 200px;max-width: 100%;overflow: auto;}#sk-container-id-1 input.sk-toggleable__control:checked~label.sk-toggleable__label-arrow:before {content: \"▾\";}#sk-container-id-1 div.sk-estimator input.sk-toggleable__control:checked~label.sk-toggleable__label {background-color: #d4ebff;}#sk-container-id-1 div.sk-label input.sk-toggleable__control:checked~label.sk-toggleable__label {background-color: #d4ebff;}#sk-container-id-1 input.sk-hidden--visually {border: 0;clip: rect(1px 1px 1px 1px);clip: rect(1px, 1px, 1px, 1px);height: 1px;margin: -1px;overflow: hidden;padding: 0;position: absolute;width: 1px;}#sk-container-id-1 div.sk-estimator {font-family: monospace;background-color: #f0f8ff;border: 1px dotted black;border-radius: 0.25em;box-sizing: border-box;margin-bottom: 0.5em;}#sk-container-id-1 div.sk-estimator:hover {background-color: #d4ebff;}#sk-container-id-1 div.sk-parallel-item::after {content: \"\";width: 100%;border-bottom: 1px solid gray;flex-grow: 1;}#sk-container-id-1 div.sk-label:hover label.sk-toggleable__label {background-color: #d4ebff;}#sk-container-id-1 div.sk-serial::before {content: \"\";position: absolute;border-left: 1px solid gray;box-sizing: border-box;top: 0;bottom: 0;left: 50%;z-index: 0;}#sk-container-id-1 div.sk-serial {display: flex;flex-direction: column;align-items: center;background-color: white;padding-right: 0.2em;padding-left: 0.2em;position: relative;}#sk-container-id-1 div.sk-item {position: relative;z-index: 1;}#sk-container-id-1 div.sk-parallel {display: flex;align-items: stretch;justify-content: center;background-color: white;position: relative;}#sk-container-id-1 div.sk-item::before, #sk-container-id-1 div.sk-parallel-item::before {content: \"\";position: absolute;border-left: 1px solid gray;box-sizing: border-box;top: 0;bottom: 0;left: 50%;z-index: -1;}#sk-container-id-1 div.sk-parallel-item {display: flex;flex-direction: column;z-index: 1;position: relative;background-color: white;}#sk-container-id-1 div.sk-parallel-item:first-child::after {align-self: flex-end;width: 50%;}#sk-container-id-1 div.sk-parallel-item:last-child::after {align-self: flex-start;width: 50%;}#sk-container-id-1 div.sk-parallel-item:only-child::after {width: 0;}#sk-container-id-1 div.sk-dashed-wrapped {border: 1px dashed gray;margin: 0 0.4em 0.5em 0.4em;box-sizing: border-box;padding-bottom: 0.4em;background-color: white;}#sk-container-id-1 div.sk-label label {font-family: monospace;font-weight: bold;display: inline-block;line-height: 1.2em;}#sk-container-id-1 div.sk-label-container {text-align: center;}#sk-container-id-1 div.sk-container {/* jupyter's `normalize.less` sets `[hidden] { display: none; }` but bootstrap.min.css set `[hidden] { display: none !important; }` so we also need the `!important` here to be able to override the default hidden behavior on the sphinx rendered scikit-learn.org. See: https://github.com/scikit-learn/scikit-learn/issues/21755 */display: inline-block !important;position: relative;}#sk-container-id-1 div.sk-text-repr-fallback {display: none;}</style><div id=\"sk-container-id-1\" class=\"sk-top-container\"><div class=\"sk-text-repr-fallback\"><pre>LinearRegression()</pre><b>In a Jupyter environment, please rerun this cell to show the HTML representation or trust the notebook. <br />On GitHub, the HTML representation is unable to render, please try loading this page with nbviewer.org.</b></div><div class=\"sk-container\" hidden><div class=\"sk-item\"><div class=\"sk-estimator sk-toggleable\"><input class=\"sk-toggleable__control sk-hidden--visually\" id=\"sk-estimator-id-1\" type=\"checkbox\" checked><label for=\"sk-estimator-id-1\" class=\"sk-toggleable__label sk-toggleable__label-arrow\">LinearRegression</label><div class=\"sk-toggleable__content\"><pre>LinearRegression()</pre></div></div></div></div></div>"
      ],
      "text/plain": [
       "LinearRegression()"
      ]
     },
     "execution_count": 3,
     "metadata": {},
     "output_type": "execute_result"
    }
   ],
   "source": [
    "import sklearn.linear_model as lm \n",
    "x = df[[\"Gallons\"]]\n",
    "y_A = df[\"Miles_Car_A\"]\n",
    "y_B = df[\"Miles_Car_B\"]\n",
    "y_C = df[\"Miles_Car_C\"]\n",
    "lin_reg_A = lm.LinearRegression()\n",
    "lin_reg_B = lm.LinearRegression()\n",
    "lin_reg_C = lm.LinearRegression()\n",
    "lin_reg_A.fit(x,y_A)\n",
    "lin_reg_B.fit(x,y_B)\n",
    "lin_reg_C.fit(x,y_C)"
   ]
  },
  {
   "cell_type": "markdown",
   "metadata": {
    "id": "n3A1cykiNFAE"
   },
   "source": [
    "### For mystery Car_A, the slope is:  "
   ]
  },
  {
   "cell_type": "code",
   "execution_count": 4,
   "metadata": {
    "id": "_O3Zw8-AOGKa"
   },
   "outputs": [
    {
     "name": "stdout",
     "output_type": "stream",
     "text": [
      "Coefficients: [37.42401961]\n"
     ]
    }
   ],
   "source": [
    "print('Coefficients:', lin_reg_A.coef_)"
   ]
  },
  {
   "cell_type": "markdown",
   "metadata": {
    "id": "yXJBe8_yNmES"
   },
   "source": [
    "### For mystery Car_A, the y-intercept is: "
   ]
  },
  {
   "cell_type": "code",
   "execution_count": 6,
   "metadata": {
    "id": "ZiNk0JLsOJ-m"
   },
   "outputs": [
    {
     "name": "stdout",
     "output_type": "stream",
     "text": [
      "Coefficients: -18.5686274509805\n"
     ]
    }
   ],
   "source": [
    "print('Coefficients:', lin_reg_A.intercept_)"
   ]
  },
  {
   "cell_type": "markdown",
   "metadata": {
    "id": "zhoW3lhtNmfz"
   },
   "source": [
    "### For mystery Car_B, the slope is: "
   ]
  },
  {
   "cell_type": "code",
   "execution_count": 7,
   "metadata": {
    "id": "XRNQh79bOKh_"
   },
   "outputs": [
    {
     "name": "stdout",
     "output_type": "stream",
     "text": [
      "Coefficients: [18.47794118]\n"
     ]
    }
   ],
   "source": [
    "print('Coefficients:', lin_reg_B.coef_)"
   ]
  },
  {
   "cell_type": "markdown",
   "metadata": {
    "id": "hme6eF98NnCQ"
   },
   "source": [
    "### For mystery Car_B, the y-intercept is: "
   ]
  },
  {
   "cell_type": "code",
   "execution_count": 8,
   "metadata": {
    "id": "1rULlH3AOMXh"
   },
   "outputs": [
    {
     "name": "stdout",
     "output_type": "stream",
     "text": [
      "Coefficients: 1.0588235294117112\n"
     ]
    }
   ],
   "source": [
    "print('Coefficients:', lin_reg_B.intercept_)"
   ]
  },
  {
   "cell_type": "markdown",
   "metadata": {
    "id": "FQO4MuFTNnQr"
   },
   "source": [
    "### For mystery Car_C, the slope is: "
   ]
  },
  {
   "cell_type": "code",
   "execution_count": 9,
   "metadata": {
    "id": "SdpzfjsxOM13"
   },
   "outputs": [
    {
     "name": "stdout",
     "output_type": "stream",
     "text": [
      "Coefficients: [31.61764706]\n"
     ]
    }
   ],
   "source": [
    "print('Coefficients:', lin_reg_C.coef_)"
   ]
  },
  {
   "cell_type": "markdown",
   "metadata": {
    "id": "tbZ5xUgfOEQ9"
   },
   "source": [
    "### For mystery Car_C, the y-intercept is:"
   ]
  },
  {
   "cell_type": "code",
   "execution_count": 10,
   "metadata": {
    "id": "yxGwhrGuONiL"
   },
   "outputs": [
    {
     "name": "stdout",
     "output_type": "stream",
     "text": [
      "Coefficients: -11.52941176470597\n"
     ]
    }
   ],
   "source": [
    "print('Coefficients:', lin_reg_C.intercept_)"
   ]
  },
  {
   "cell_type": "markdown",
   "metadata": {
    "id": "OcOpWmqvOg6h"
   },
   "source": [
    "## Question 2\n",
    "\n",
    "Suppose you know the following information on 4 cars. \n",
    "\n",
    "* Honda has an efficiency of 34 mpg.\n",
    "* Peugeot has an efficiency of 20 mpg.\n",
    "* Subaru has an efficiency of 31 mpg.\n",
    "* Volkswagen has an efficiency of 37 mpg.\n",
    "\n",
    "Match each mystery car from the previous question to the actual car brand."
   ]
  },
  {
   "cell_type": "markdown",
   "metadata": {
    "id": "aYrCv9i3PQfj"
   },
   "source": [
    "## Question 3\n",
    "\n",
    "Suppose you run linear regression on a new mystery car and you find that its slope is 10 and its y-intercept is -4.\n",
    "\n",
    "Select all possible correct interpretations of this negative y-intercept."
   ]
  }
 ],
 "metadata": {
  "colab": {
   "collapsed_sections": [],
   "name": "student_ques1_linear_regression.ipynb",
   "provenance": []
  },
  "kernelspec": {
   "display_name": "Python 3 (ipykernel)",
   "language": "python",
   "name": "python3"
  },
  "language_info": {
   "codemirror_mode": {
    "name": "ipython",
    "version": 3
   },
   "file_extension": ".py",
   "mimetype": "text/x-python",
   "name": "python",
   "nbconvert_exporter": "python",
   "pygments_lexer": "ipython3",
   "version": "3.11.4"
  }
 },
 "nbformat": 4,
 "nbformat_minor": 1
}
