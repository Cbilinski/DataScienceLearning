{
 "cells": [
  {
   "cell_type": "markdown",
   "metadata": {
    "id": "nJ3nLpBZzptn"
   },
   "source": [
    "## Overfitting"
   ]
  },
  {
   "cell_type": "code",
   "execution_count": 1,
   "metadata": {
    "colab": {
     "base_uri": "https://localhost:8080/"
    },
    "executionInfo": {
     "elapsed": 2643,
     "status": "ok",
     "timestamp": 1656009734014,
     "user": {
      "displayName": "edX TMMD",
      "userId": "06777248648375615678"
     },
     "user_tz": 240
    },
    "id": "2DV9iH-vJgSK",
    "outputId": "1bad407d-dfe8-4018-d931-57f2c77dc3ec"
   },
   "outputs": [
    {
     "name": "stdout",
     "output_type": "stream",
     "text": [
      "Capstone\n",
      "Data\n",
      "student_lec1_linear_regression.ipynb\n",
      "student_lec2_R2.ipynb\n",
      "student_lec3_predict.ipynb\n",
      "student_lec4_multiple_linear_regression.ipynb\n",
      "student_lec5_linear_regression_quadratic.ipynb\n",
      "student_lec6_overfitting.ipynb\n",
      "student_ques1_linear_regression.ipynb\n",
      "student_ques2_R2.ipynb\n",
      "student_ques3_predict.ipynb\n",
      "student_ques6_polynomial.ipynb\n"
     ]
    }
   ],
   "source": [
    "#from google.colab import drive\n",
    "#drive.mount('/content/drive/', force_remount=True)\n",
    "\n",
    "import os\n",
    "#os.chdir(\"/content/drive/My Drive/AIMOOC\")\n",
    "!ls\n",
    "\n",
    "import pandas as pd\n",
    "import sklearn.linear_model as lm\n",
    "import matplotlib.pyplot as plt"
   ]
  },
  {
   "cell_type": "markdown",
   "metadata": {
    "id": "vRzM8MWdzvID"
   },
   "source": [
    "## Load the Temperature Data"
   ]
  },
  {
   "cell_type": "code",
   "execution_count": 2,
   "metadata": {
    "colab": {
     "base_uri": "https://localhost:8080/",
     "height": 802
    },
    "executionInfo": {
     "elapsed": 259,
     "status": "ok",
     "timestamp": 1656009743487,
     "user": {
      "displayName": "edX TMMD",
      "userId": "06777248648375615678"
     },
     "user_tz": 240
    },
    "id": "dkIFyKNC1ppj",
    "outputId": "f403ff85-8dfe-4f09-c3bb-d5eefb1e74df"
   },
   "outputs": [
    {
     "data": {
      "text/html": [
       "<div>\n",
       "<style scoped>\n",
       "    .dataframe tbody tr th:only-of-type {\n",
       "        vertical-align: middle;\n",
       "    }\n",
       "\n",
       "    .dataframe tbody tr th {\n",
       "        vertical-align: top;\n",
       "    }\n",
       "\n",
       "    .dataframe thead th {\n",
       "        text-align: right;\n",
       "    }\n",
       "</style>\n",
       "<table border=\"1\" class=\"dataframe\">\n",
       "  <thead>\n",
       "    <tr style=\"text-align: right;\">\n",
       "      <th></th>\n",
       "      <th>Region</th>\n",
       "      <th>Country</th>\n",
       "      <th>State</th>\n",
       "      <th>City</th>\n",
       "      <th>Month</th>\n",
       "      <th>Day</th>\n",
       "      <th>Year</th>\n",
       "      <th>AvgTemperature</th>\n",
       "    </tr>\n",
       "  </thead>\n",
       "  <tbody>\n",
       "    <tr>\n",
       "      <th>0</th>\n",
       "      <td>North America</td>\n",
       "      <td>US</td>\n",
       "      <td>Massachusetts</td>\n",
       "      <td>Boston</td>\n",
       "      <td>1</td>\n",
       "      <td>1</td>\n",
       "      <td>2016</td>\n",
       "      <td>39.1</td>\n",
       "    </tr>\n",
       "    <tr>\n",
       "      <th>1</th>\n",
       "      <td>North America</td>\n",
       "      <td>US</td>\n",
       "      <td>Massachusetts</td>\n",
       "      <td>Boston</td>\n",
       "      <td>2</td>\n",
       "      <td>1</td>\n",
       "      <td>2016</td>\n",
       "      <td>49.5</td>\n",
       "    </tr>\n",
       "    <tr>\n",
       "      <th>2</th>\n",
       "      <td>North America</td>\n",
       "      <td>US</td>\n",
       "      <td>Massachusetts</td>\n",
       "      <td>Boston</td>\n",
       "      <td>3</td>\n",
       "      <td>1</td>\n",
       "      <td>2016</td>\n",
       "      <td>41.6</td>\n",
       "    </tr>\n",
       "    <tr>\n",
       "      <th>3</th>\n",
       "      <td>North America</td>\n",
       "      <td>US</td>\n",
       "      <td>Massachusetts</td>\n",
       "      <td>Boston</td>\n",
       "      <td>4</td>\n",
       "      <td>1</td>\n",
       "      <td>2016</td>\n",
       "      <td>63.1</td>\n",
       "    </tr>\n",
       "    <tr>\n",
       "      <th>4</th>\n",
       "      <td>North America</td>\n",
       "      <td>US</td>\n",
       "      <td>Massachusetts</td>\n",
       "      <td>Boston</td>\n",
       "      <td>5</td>\n",
       "      <td>1</td>\n",
       "      <td>2016</td>\n",
       "      <td>48.2</td>\n",
       "    </tr>\n",
       "    <tr>\n",
       "      <th>5</th>\n",
       "      <td>North America</td>\n",
       "      <td>US</td>\n",
       "      <td>Massachusetts</td>\n",
       "      <td>Boston</td>\n",
       "      <td>6</td>\n",
       "      <td>1</td>\n",
       "      <td>2016</td>\n",
       "      <td>68.8</td>\n",
       "    </tr>\n",
       "    <tr>\n",
       "      <th>6</th>\n",
       "      <td>North America</td>\n",
       "      <td>US</td>\n",
       "      <td>Massachusetts</td>\n",
       "      <td>Boston</td>\n",
       "      <td>7</td>\n",
       "      <td>1</td>\n",
       "      <td>2016</td>\n",
       "      <td>75.5</td>\n",
       "    </tr>\n",
       "    <tr>\n",
       "      <th>7</th>\n",
       "      <td>North America</td>\n",
       "      <td>US</td>\n",
       "      <td>Massachusetts</td>\n",
       "      <td>Boston</td>\n",
       "      <td>8</td>\n",
       "      <td>1</td>\n",
       "      <td>2016</td>\n",
       "      <td>70.6</td>\n",
       "    </tr>\n",
       "    <tr>\n",
       "      <th>8</th>\n",
       "      <td>North America</td>\n",
       "      <td>US</td>\n",
       "      <td>Massachusetts</td>\n",
       "      <td>Boston</td>\n",
       "      <td>9</td>\n",
       "      <td>1</td>\n",
       "      <td>2016</td>\n",
       "      <td>74.4</td>\n",
       "    </tr>\n",
       "    <tr>\n",
       "      <th>9</th>\n",
       "      <td>North America</td>\n",
       "      <td>US</td>\n",
       "      <td>Massachusetts</td>\n",
       "      <td>Boston</td>\n",
       "      <td>10</td>\n",
       "      <td>1</td>\n",
       "      <td>2016</td>\n",
       "      <td>56.9</td>\n",
       "    </tr>\n",
       "    <tr>\n",
       "      <th>10</th>\n",
       "      <td>North America</td>\n",
       "      <td>US</td>\n",
       "      <td>Massachusetts</td>\n",
       "      <td>Boston</td>\n",
       "      <td>11</td>\n",
       "      <td>1</td>\n",
       "      <td>2016</td>\n",
       "      <td>42.4</td>\n",
       "    </tr>\n",
       "    <tr>\n",
       "      <th>11</th>\n",
       "      <td>North America</td>\n",
       "      <td>US</td>\n",
       "      <td>Massachusetts</td>\n",
       "      <td>Boston</td>\n",
       "      <td>12</td>\n",
       "      <td>1</td>\n",
       "      <td>2016</td>\n",
       "      <td>50.2</td>\n",
       "    </tr>\n",
       "    <tr>\n",
       "      <th>12</th>\n",
       "      <td>North America</td>\n",
       "      <td>US</td>\n",
       "      <td>Massachusetts</td>\n",
       "      <td>Boston</td>\n",
       "      <td>1</td>\n",
       "      <td>1</td>\n",
       "      <td>2017</td>\n",
       "      <td>40.0</td>\n",
       "    </tr>\n",
       "    <tr>\n",
       "      <th>13</th>\n",
       "      <td>North America</td>\n",
       "      <td>US</td>\n",
       "      <td>Massachusetts</td>\n",
       "      <td>Boston</td>\n",
       "      <td>2</td>\n",
       "      <td>1</td>\n",
       "      <td>2017</td>\n",
       "      <td>32.2</td>\n",
       "    </tr>\n",
       "    <tr>\n",
       "      <th>14</th>\n",
       "      <td>North America</td>\n",
       "      <td>US</td>\n",
       "      <td>Massachusetts</td>\n",
       "      <td>Boston</td>\n",
       "      <td>3</td>\n",
       "      <td>1</td>\n",
       "      <td>2017</td>\n",
       "      <td>52.8</td>\n",
       "    </tr>\n",
       "    <tr>\n",
       "      <th>15</th>\n",
       "      <td>North America</td>\n",
       "      <td>US</td>\n",
       "      <td>Massachusetts</td>\n",
       "      <td>Boston</td>\n",
       "      <td>4</td>\n",
       "      <td>1</td>\n",
       "      <td>2017</td>\n",
       "      <td>35.2</td>\n",
       "    </tr>\n",
       "    <tr>\n",
       "      <th>16</th>\n",
       "      <td>North America</td>\n",
       "      <td>US</td>\n",
       "      <td>Massachusetts</td>\n",
       "      <td>Boston</td>\n",
       "      <td>5</td>\n",
       "      <td>1</td>\n",
       "      <td>2017</td>\n",
       "      <td>46.9</td>\n",
       "    </tr>\n",
       "    <tr>\n",
       "      <th>17</th>\n",
       "      <td>North America</td>\n",
       "      <td>US</td>\n",
       "      <td>Massachusetts</td>\n",
       "      <td>Boston</td>\n",
       "      <td>6</td>\n",
       "      <td>1</td>\n",
       "      <td>2017</td>\n",
       "      <td>66.5</td>\n",
       "    </tr>\n",
       "    <tr>\n",
       "      <th>18</th>\n",
       "      <td>North America</td>\n",
       "      <td>US</td>\n",
       "      <td>Massachusetts</td>\n",
       "      <td>Boston</td>\n",
       "      <td>7</td>\n",
       "      <td>1</td>\n",
       "      <td>2017</td>\n",
       "      <td>76.1</td>\n",
       "    </tr>\n",
       "    <tr>\n",
       "      <th>19</th>\n",
       "      <td>North America</td>\n",
       "      <td>US</td>\n",
       "      <td>Massachusetts</td>\n",
       "      <td>Boston</td>\n",
       "      <td>8</td>\n",
       "      <td>1</td>\n",
       "      <td>2017</td>\n",
       "      <td>74.4</td>\n",
       "    </tr>\n",
       "    <tr>\n",
       "      <th>20</th>\n",
       "      <td>North America</td>\n",
       "      <td>US</td>\n",
       "      <td>Massachusetts</td>\n",
       "      <td>Boston</td>\n",
       "      <td>9</td>\n",
       "      <td>1</td>\n",
       "      <td>2017</td>\n",
       "      <td>62.3</td>\n",
       "    </tr>\n",
       "    <tr>\n",
       "      <th>21</th>\n",
       "      <td>North America</td>\n",
       "      <td>US</td>\n",
       "      <td>Massachusetts</td>\n",
       "      <td>Boston</td>\n",
       "      <td>10</td>\n",
       "      <td>1</td>\n",
       "      <td>2017</td>\n",
       "      <td>54.7</td>\n",
       "    </tr>\n",
       "    <tr>\n",
       "      <th>22</th>\n",
       "      <td>North America</td>\n",
       "      <td>US</td>\n",
       "      <td>Massachusetts</td>\n",
       "      <td>Boston</td>\n",
       "      <td>11</td>\n",
       "      <td>1</td>\n",
       "      <td>2017</td>\n",
       "      <td>48.3</td>\n",
       "    </tr>\n",
       "    <tr>\n",
       "      <th>23</th>\n",
       "      <td>North America</td>\n",
       "      <td>US</td>\n",
       "      <td>Massachusetts</td>\n",
       "      <td>Boston</td>\n",
       "      <td>12</td>\n",
       "      <td>1</td>\n",
       "      <td>2017</td>\n",
       "      <td>46.3</td>\n",
       "    </tr>\n",
       "  </tbody>\n",
       "</table>\n",
       "</div>"
      ],
      "text/plain": [
       "           Region Country          State    City  Month  Day  Year  \\\n",
       "0   North America      US  Massachusetts  Boston      1    1  2016   \n",
       "1   North America      US  Massachusetts  Boston      2    1  2016   \n",
       "2   North America      US  Massachusetts  Boston      3    1  2016   \n",
       "3   North America      US  Massachusetts  Boston      4    1  2016   \n",
       "4   North America      US  Massachusetts  Boston      5    1  2016   \n",
       "5   North America      US  Massachusetts  Boston      6    1  2016   \n",
       "6   North America      US  Massachusetts  Boston      7    1  2016   \n",
       "7   North America      US  Massachusetts  Boston      8    1  2016   \n",
       "8   North America      US  Massachusetts  Boston      9    1  2016   \n",
       "9   North America      US  Massachusetts  Boston     10    1  2016   \n",
       "10  North America      US  Massachusetts  Boston     11    1  2016   \n",
       "11  North America      US  Massachusetts  Boston     12    1  2016   \n",
       "12  North America      US  Massachusetts  Boston      1    1  2017   \n",
       "13  North America      US  Massachusetts  Boston      2    1  2017   \n",
       "14  North America      US  Massachusetts  Boston      3    1  2017   \n",
       "15  North America      US  Massachusetts  Boston      4    1  2017   \n",
       "16  North America      US  Massachusetts  Boston      5    1  2017   \n",
       "17  North America      US  Massachusetts  Boston      6    1  2017   \n",
       "18  North America      US  Massachusetts  Boston      7    1  2017   \n",
       "19  North America      US  Massachusetts  Boston      8    1  2017   \n",
       "20  North America      US  Massachusetts  Boston      9    1  2017   \n",
       "21  North America      US  Massachusetts  Boston     10    1  2017   \n",
       "22  North America      US  Massachusetts  Boston     11    1  2017   \n",
       "23  North America      US  Massachusetts  Boston     12    1  2017   \n",
       "\n",
       "    AvgTemperature  \n",
       "0             39.1  \n",
       "1             49.5  \n",
       "2             41.6  \n",
       "3             63.1  \n",
       "4             48.2  \n",
       "5             68.8  \n",
       "6             75.5  \n",
       "7             70.6  \n",
       "8             74.4  \n",
       "9             56.9  \n",
       "10            42.4  \n",
       "11            50.2  \n",
       "12            40.0  \n",
       "13            32.2  \n",
       "14            52.8  \n",
       "15            35.2  \n",
       "16            46.9  \n",
       "17            66.5  \n",
       "18            76.1  \n",
       "19            74.4  \n",
       "20            62.3  \n",
       "21            54.7  \n",
       "22            48.3  \n",
       "23            46.3  "
      ]
     },
     "execution_count": 2,
     "metadata": {},
     "output_type": "execute_result"
    }
   ],
   "source": [
    "df = pd.read_csv(\"Data/temperature_boston_monthly_2years.csv\")\n",
    "df"
   ]
  },
  {
   "cell_type": "markdown",
   "metadata": {
    "id": "elYHAXsmzyhN"
   },
   "source": [
    "## Fit Many Different Degree Curves Using Linear Regression\n",
    "\n",
    "We modify the code below to use degree 1, then 2, then 3, and so on, up to a degree 11 polynomial fit to the temperature data. We also show the predictions for the July temperature over 4 years. The first 2 years' predictions are within our data range, but the year 3 and 4 predictions are beyond our data range. How does each model do in prediction year 3 and 4 temperatures?"
   ]
  },
  {
   "cell_type": "code",
   "execution_count": 7,
   "metadata": {
    "colab": {
     "base_uri": "https://localhost:8080/",
     "height": 417
    },
    "executionInfo": {
     "elapsed": 499,
     "status": "ok",
     "timestamp": 1656014595119,
     "user": {
      "displayName": "edX TMMD",
      "userId": "06777248648375615678"
     },
     "user_tz": 240
    },
    "id": "Ja7vU3_8kZcn",
    "outputId": "912bf278-3a91-4104-da50-6f54e298da22"
   },
   "outputs": [
    {
     "name": "stdout",
     "output_type": "stream",
     "text": [
      "Coefficients: [ 0.00000000e+00  1.32006457e+01  1.87180956e+00 -9.67393325e+00\n",
      "  5.50376833e+00 -1.43187332e+00  2.10418225e-01 -1.89211585e-02\n",
      "  1.06465259e-03 -3.66207245e-05  7.04578335e-07 -5.81085988e-09]\n",
      "Intercept: 38.71776691948374\n",
      "R^2: 0.8097156538247383\n",
      "July of Year 1: [74.58328792]\n",
      "July of Year 2: [73.30060599]\n",
      "July of Year 3: [-184731.94196506]\n",
      "July of Year 4: [-95928453.04720195]\n"
     ]
    },
    {
     "data": {
      "image/png": "[encoded data removed]",
      "text/plain": [
       "<Figure size 640x480 with 1 Axes>"
      ]
     },
     "metadata": {},
     "output_type": "display_data"
    }
   ],
   "source": [
    "from sklearn.preprocessing import PolynomialFeatures\n",
    "import numpy as np\n",
    "df['idx'] = df.index\n",
    "x = df[['idx']]\n",
    "poly_trans = PolynomialFeatures(degree=11)\n",
    "x_trans = poly_trans.fit_transform(x)\n",
    "y = df[\"AvgTemperature\"]\n",
    "lin_reg = lm.LinearRegression()\n",
    "lin_reg.fit(x_trans, y) \n",
    "print('Coefficients:', lin_reg.coef_)\n",
    "print('Intercept:', lin_reg.intercept_)\n",
    "print('R^2:', lin_reg.score(x_trans, y))\n",
    "plt.scatter(x, y)\n",
    "ypred = lin_reg.predict(x_trans)\n",
    "plt.plot(x, ypred, color=\"blue\")\n",
    "plt.xlabel(\"x\")\n",
    "plt.ylabel(\"y\")\n",
    "plt.title(\"Relationship between x and y\")\n",
    "\n",
    "print(\"July of Year 1:\", lin_reg.predict(poly_trans.fit_transform([[6]])))\n",
    "print(\"July of Year 2:\", lin_reg.predict(poly_trans.fit_transform([[18]])))\n",
    "print(\"July of Year 3:\", lin_reg.predict(poly_trans.fit_transform([[30]])))\n",
    "print(\"July of Year 4:\", lin_reg.predict(poly_trans.fit_transform([[42]])))"
   ]
  },
  {
   "cell_type": "markdown",
   "metadata": {
    "id": "DqHqbXqtJ2P_"
   },
   "source": [
    "## Plot Predicted Temperature Values"
   ]
  },
  {
   "cell_type": "code",
   "execution_count": 5,
   "metadata": {
    "colab": {
     "base_uri": "https://localhost:8080/",
     "height": 451
    },
    "executionInfo": {
     "elapsed": 539,
     "status": "ok",
     "timestamp": 1656014730260,
     "user": {
      "displayName": "edX TMMD",
      "userId": "06777248648375615678"
     },
     "user_tz": 240
    },
    "id": "FHAAbbq0J13b",
    "outputId": "bebfdbf0-5048-4224-f1da-0ef6338b5a14"
   },
   "outputs": [
    {
     "name": "stdout",
     "output_type": "stream",
     "text": [
      "Coefficients: [ 0.00000000e+00  1.32006457e+01  1.87180956e+00 -9.67393325e+00\n",
      "  5.50376833e+00 -1.43187332e+00  2.10418225e-01 -1.89211585e-02\n",
      "  1.06465259e-03 -3.66207245e-05  7.04578335e-07 -5.81085988e-09]\n",
      "Intercept: 38.71776691948374\n",
      "R^2: 0.8097156538247383\n",
      "July of Year 1: [74.58328792]\n",
      "July of Year 2: [73.30060599]\n",
      "July of Year 3: [-184731.94196506]\n",
      "July of Year 4: [-95928453.04720195]\n"
     ]
    },
    {
     "data": {
      "image/png": "[encoded data removed]",
      "text/plain": [
       "<Figure size 640x480 with 1 Axes>"
      ]
     },
     "metadata": {},
     "output_type": "display_data"
    }
   ],
   "source": [
    "from sklearn.preprocessing import PolynomialFeatures\n",
    "import numpy as np\n",
    "df['idx'] = df.index\n",
    "x = df[['idx']]\n",
    "poly_trans = PolynomialFeatures(degree=11)\n",
    "x_trans = poly_trans.fit_transform(x)\n",
    "y = df[\"AvgTemperature\"]\n",
    "lin_reg = lm.LinearRegression()\n",
    "lin_reg.fit(x_trans, y) \n",
    "print('Coefficients:', lin_reg.coef_)\n",
    "print('Intercept:', lin_reg.intercept_)\n",
    "print('R^2:', lin_reg.score(x_trans, y))\n",
    "plt.scatter(x, y)\n",
    "ypred = lin_reg.predict(x_trans)\n",
    "plt.plot(x, ypred, color=\"blue\")\n",
    "plt.xlabel(\"x\")\n",
    "plt.ylabel(\"y\")\n",
    "plt.title(\"Relationship between x and y\")\n",
    "\n",
    "# Plot predicted future values\n",
    "ex_x = np.arange(23,43).reshape(-1,1)\n",
    "ex_pred = lin_reg.predict(poly_trans.fit_transform(ex_x))\n",
    "plt.plot(ex_x, ex_pred, color='purple', linestyle='--')\n",
    "\n",
    "print(\"July of Year 1:\", lin_reg.predict(poly_trans.fit_transform([[6]])))\n",
    "print(\"July of Year 2:\", lin_reg.predict(poly_trans.fit_transform([[18]])))\n",
    "print(\"July of Year 3:\", lin_reg.predict(poly_trans.fit_transform([[30]])))\n",
    "print(\"July of Year 4:\", lin_reg.predict(poly_trans.fit_transform([[42]])))"
   ]
  },
  {
   "cell_type": "code",
   "execution_count": null,
   "metadata": {},
   "outputs": [],
   "source": []
  }
 ],
 "metadata": {
  "colab": {
   "collapsed_sections": [],
   "name": "student_lec6_overfitting.ipynb",
   "provenance": [
    {
     "file_id": "1Mf89RgOxrLbikKIkR2DxNUeZVUo9Is_-",
     "timestamp": 1629301679457
    },
    {
     "file_id": "1rHEJdTYJrj-Nj8SIR8Zl-uojBiY0KGKL",
     "timestamp": 1627578993015
    },
    {
     "file_id": "12pc6szmiissasj6TN1DCN_fAQk1DIHC8",
     "timestamp": 1626357761117
    }
   ]
  },
  "kernelspec": {
   "display_name": "Python 3 (ipykernel)",
   "language": "python",
   "name": "python3"
  },
  "language_info": {
   "codemirror_mode": {
    "name": "ipython",
    "version": 3
   },
   "file_extension": ".py",
   "mimetype": "text/x-python",
   "name": "python",
   "nbconvert_exporter": "python",
   "pygments_lexer": "ipython3",
   "version": "3.11.4"
  }
 },
 "nbformat": 4,
 "nbformat_minor": 1
}
