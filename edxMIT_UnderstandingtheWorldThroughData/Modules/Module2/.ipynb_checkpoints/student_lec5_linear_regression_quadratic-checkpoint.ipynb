{
 "cells": [
  {
   "cell_type": "markdown",
   "metadata": {
    "id": "9Uu27HkYfnRa"
   },
   "source": [
    "### Set-Up\n",
    "Set up Colab to read the data from your course Google Drive."
   ]
  },
  {
   "cell_type": "code",
   "execution_count": null,
   "metadata": {
    "id": "1bbik89cFt9m"
   },
   "outputs": [],
   "source": [
    "#from google.colab import drive\n",
    "#drive.mount('/content/drive/', force_remount=True)"
   ]
  },
  {
   "cell_type": "code",
   "execution_count": 1,
   "metadata": {
    "id": "tImvMKexNXh5"
   },
   "outputs": [
    {
     "name": "stdout",
     "output_type": "stream",
     "text": [
      "Capstone\n",
      "Data\n",
      "student_lec1_linear_regression.ipynb\n",
      "student_lec2_R2.ipynb\n",
      "student_lec3_predict.ipynb\n",
      "student_lec4_multiple_linear_regression.ipynb\n",
      "student_lec5_linear_regression_quadratic.ipynb\n",
      "student_lec6_overfitting.ipynb\n",
      "student_ques1_linear_regression.ipynb\n",
      "student_ques2_R2.ipynb\n",
      "student_ques3_predict.ipynb\n",
      "student_ques6_polynomial.ipynb\n"
     ]
    }
   ],
   "source": [
    "import os\n",
    "#os.chdir(\"/content/drive/My Drive/AIMOOC\")\n",
    "!ls"
   ]
  },
  {
   "cell_type": "markdown",
   "metadata": {
    "id": "tJdTdw0Hf871"
   },
   "source": [
    "### Reading Data\n",
    "Read in the data file into a DataFrame where one column is the gallons of gas used and the second column is the miles traveled on that amount of gas for a Toyota Corolla. "
   ]
  },
  {
   "cell_type": "code",
   "execution_count": 2,
   "metadata": {
    "id": "jfSNZFcjEv05"
   },
   "outputs": [
    {
     "data": {
      "text/html": [
       "<div>\n",
       "<style scoped>\n",
       "    .dataframe tbody tr th:only-of-type {\n",
       "        vertical-align: middle;\n",
       "    }\n",
       "\n",
       "    .dataframe tbody tr th {\n",
       "        vertical-align: top;\n",
       "    }\n",
       "\n",
       "    .dataframe thead th {\n",
       "        text-align: right;\n",
       "    }\n",
       "</style>\n",
       "<table border=\"1\" class=\"dataframe\">\n",
       "  <thead>\n",
       "    <tr style=\"text-align: right;\">\n",
       "      <th></th>\n",
       "      <th>x</th>\n",
       "      <th>y</th>\n",
       "    </tr>\n",
       "  </thead>\n",
       "  <tbody>\n",
       "    <tr>\n",
       "      <th>0</th>\n",
       "      <td>-71</td>\n",
       "      <td>5041</td>\n",
       "    </tr>\n",
       "    <tr>\n",
       "      <th>1</th>\n",
       "      <td>-66</td>\n",
       "      <td>4356</td>\n",
       "    </tr>\n",
       "    <tr>\n",
       "      <th>2</th>\n",
       "      <td>-52</td>\n",
       "      <td>2704</td>\n",
       "    </tr>\n",
       "    <tr>\n",
       "      <th>3</th>\n",
       "      <td>-45</td>\n",
       "      <td>2025</td>\n",
       "    </tr>\n",
       "    <tr>\n",
       "      <th>4</th>\n",
       "      <td>-33</td>\n",
       "      <td>1089</td>\n",
       "    </tr>\n",
       "    <tr>\n",
       "      <th>5</th>\n",
       "      <td>-25</td>\n",
       "      <td>625</td>\n",
       "    </tr>\n",
       "    <tr>\n",
       "      <th>6</th>\n",
       "      <td>-11</td>\n",
       "      <td>121</td>\n",
       "    </tr>\n",
       "    <tr>\n",
       "      <th>7</th>\n",
       "      <td>-10</td>\n",
       "      <td>100</td>\n",
       "    </tr>\n",
       "    <tr>\n",
       "      <th>8</th>\n",
       "      <td>-5</td>\n",
       "      <td>25</td>\n",
       "    </tr>\n",
       "    <tr>\n",
       "      <th>9</th>\n",
       "      <td>-1</td>\n",
       "      <td>1</td>\n",
       "    </tr>\n",
       "    <tr>\n",
       "      <th>10</th>\n",
       "      <td>31</td>\n",
       "      <td>961</td>\n",
       "    </tr>\n",
       "    <tr>\n",
       "      <th>11</th>\n",
       "      <td>33</td>\n",
       "      <td>1089</td>\n",
       "    </tr>\n",
       "    <tr>\n",
       "      <th>12</th>\n",
       "      <td>37</td>\n",
       "      <td>1369</td>\n",
       "    </tr>\n",
       "    <tr>\n",
       "      <th>13</th>\n",
       "      <td>43</td>\n",
       "      <td>1849</td>\n",
       "    </tr>\n",
       "    <tr>\n",
       "      <th>14</th>\n",
       "      <td>55</td>\n",
       "      <td>3025</td>\n",
       "    </tr>\n",
       "    <tr>\n",
       "      <th>15</th>\n",
       "      <td>62</td>\n",
       "      <td>3844</td>\n",
       "    </tr>\n",
       "    <tr>\n",
       "      <th>16</th>\n",
       "      <td>74</td>\n",
       "      <td>5476</td>\n",
       "    </tr>\n",
       "    <tr>\n",
       "      <th>17</th>\n",
       "      <td>81</td>\n",
       "      <td>6561</td>\n",
       "    </tr>\n",
       "    <tr>\n",
       "      <th>18</th>\n",
       "      <td>85</td>\n",
       "      <td>7225</td>\n",
       "    </tr>\n",
       "    <tr>\n",
       "      <th>19</th>\n",
       "      <td>92</td>\n",
       "      <td>8464</td>\n",
       "    </tr>\n",
       "  </tbody>\n",
       "</table>\n",
       "</div>"
      ],
      "text/plain": [
       "     x     y\n",
       "0  -71  5041\n",
       "1  -66  4356\n",
       "2  -52  2704\n",
       "3  -45  2025\n",
       "4  -33  1089\n",
       "5  -25   625\n",
       "6  -11   121\n",
       "7  -10   100\n",
       "8   -5    25\n",
       "9   -1     1\n",
       "10  31   961\n",
       "11  33  1089\n",
       "12  37  1369\n",
       "13  43  1849\n",
       "14  55  3025\n",
       "15  62  3844\n",
       "16  74  5476\n",
       "17  81  6561\n",
       "18  85  7225\n",
       "19  92  8464"
      ]
     },
     "execution_count": 2,
     "metadata": {},
     "output_type": "execute_result"
    }
   ],
   "source": [
    "import pandas as pd\n",
    "pd.set_option('display.max_columns', 500)\n",
    "df = pd.read_csv(\"Data/quadratic.csv\")\n",
    "df"
   ]
  },
  {
   "cell_type": "markdown",
   "metadata": {
    "id": "C7aEgpUKghzH"
   },
   "source": [
    "### Finding the Best Fit Line\n",
    "Use linear regression to find the formula for the best fit line. This code finds a straight line (degree 1) for the fit.\n"
   ]
  },
  {
   "cell_type": "code",
   "execution_count": 3,
   "metadata": {
    "id": "Pn_XQ2rVK4O-"
   },
   "outputs": [
    {
     "name": "stdout",
     "output_type": "stream",
     "text": [
      "Coefficients: [23.61081841]\n",
      "Intercept: 2474.031787754664\n",
      "R^2: 0.2254198504973568\n"
     ]
    },
    {
     "data": {
      "text/plain": [
       "Text(0.5, 1.0, 'Linear relationship between x and y')"
      ]
     },
     "execution_count": 3,
     "metadata": {},
     "output_type": "execute_result"
    },
    {
     "data": {
      "image/png": "[encoded data removed]",
      "text/plain": [
       "<Figure size 640x480 with 1 Axes>"
      ]
     },
     "metadata": {},
     "output_type": "display_data"
    }
   ],
   "source": [
    "import sklearn.linear_model as lm \n",
    "import matplotlib.pyplot as plt\n",
    "x = df[[\"x\"]]\n",
    "y = df[\"y\"]\n",
    "lin_reg = lm.LinearRegression()\n",
    "lin_reg.fit(x, y) \n",
    "print('Coefficients:', lin_reg.coef_)\n",
    "print('Intercept:', lin_reg.intercept_)\n",
    "print('R^2:', lin_reg.score(x, y))\n",
    "plt.scatter(x, y)\n",
    "ypred = lin_reg.predict(x)\n",
    "plt.plot(x, ypred, color=\"blue\")\n",
    "plt.xlabel(\"x\")\n",
    "plt.ylabel(\"y\")\n",
    "plt.title(\"Linear relationship between x and y\")"
   ]
  },
  {
   "cell_type": "code",
   "execution_count": 6,
   "metadata": {},
   "outputs": [
    {
     "name": "stdout",
     "output_type": "stream",
     "text": [
      "[[ 1.000e+00 -7.100e+01  5.041e+03]\n",
      " [ 1.000e+00 -6.600e+01  4.356e+03]\n",
      " [ 1.000e+00 -5.200e+01  2.704e+03]\n",
      " [ 1.000e+00 -4.500e+01  2.025e+03]\n",
      " [ 1.000e+00 -3.300e+01  1.089e+03]\n",
      " [ 1.000e+00 -2.500e+01  6.250e+02]\n",
      " [ 1.000e+00 -1.100e+01  1.210e+02]\n",
      " [ 1.000e+00 -1.000e+01  1.000e+02]\n",
      " [ 1.000e+00 -5.000e+00  2.500e+01]\n",
      " [ 1.000e+00 -1.000e+00  1.000e+00]\n",
      " [ 1.000e+00  3.100e+01  9.610e+02]\n",
      " [ 1.000e+00  3.300e+01  1.089e+03]\n",
      " [ 1.000e+00  3.700e+01  1.369e+03]\n",
      " [ 1.000e+00  4.300e+01  1.849e+03]\n",
      " [ 1.000e+00  5.500e+01  3.025e+03]\n",
      " [ 1.000e+00  6.200e+01  3.844e+03]\n",
      " [ 1.000e+00  7.400e+01  5.476e+03]\n",
      " [ 1.000e+00  8.100e+01  6.561e+03]\n",
      " [ 1.000e+00  8.500e+01  7.225e+03]\n",
      " [ 1.000e+00  9.200e+01  8.464e+03]]\n",
      "     x\n",
      "0  -71\n",
      "1  -66\n",
      "2  -52\n",
      "3  -45\n",
      "4  -33\n",
      "5  -25\n",
      "6  -11\n",
      "7  -10\n",
      "8   -5\n",
      "9   -1\n",
      "10  31\n",
      "11  33\n",
      "12  37\n",
      "13  43\n",
      "14  55\n",
      "15  62\n",
      "16  74\n",
      "17  81\n",
      "18  85\n",
      "19  92\n"
     ]
    }
   ],
   "source": [
    "print(x_trans)\n",
    "print(x)"
   ]
  },
  {
   "cell_type": "markdown",
   "metadata": {
    "id": "RrtMx-LSjmx3"
   },
   "source": [
    "Use linear regression but this time find a quadratic (degree 2) line of fit. "
   ]
  },
  {
   "cell_type": "code",
   "execution_count": 4,
   "metadata": {
    "id": "2zVjywL5ieB3"
   },
   "outputs": [
    {
     "name": "stdout",
     "output_type": "stream",
     "text": [
      "Coefficients: [ 0.0000000e+00 -5.6917044e-15  1.0000000e+00]\n",
      "Intercept: -4.547473508864641e-13\n",
      "R^2: 1.0\n"
     ]
    },
    {
     "data": {
      "text/plain": [
       "Text(0.5, 1.0, 'Quadratic relationship between x and y')"
      ]
     },
     "execution_count": 4,
     "metadata": {},
     "output_type": "execute_result"
    },
    {
     "data": {
      "image/png": "[encoded data removed]",
      "text/plain": [
       "<Figure size 640x480 with 1 Axes>"
      ]
     },
     "metadata": {},
     "output_type": "display_data"
    }
   ],
   "source": [
    "import sklearn.linear_model as lm \n",
    "import matplotlib.pyplot as plt\n",
    "from sklearn.preprocessing import PolynomialFeatures\n",
    "\n",
    "x = df[[\"x\"]]\n",
    "x_trans = PolynomialFeatures(degree=2)\n",
    "x_trans = x_trans.fit_transform(x)\n",
    "y = df[\"y\"]\n",
    "lin_reg = lm.LinearRegression()\n",
    "lin_reg.fit(x_trans, y) \n",
    "print('Coefficients:', lin_reg.coef_)\n",
    "print('Intercept:', lin_reg.intercept_)\n",
    "print('R^2:', lin_reg.score(x_trans, y))\n",
    "plt.scatter(x, y)\n",
    "ypred = lin_reg.predict(x_trans)\n",
    "plt.plot(x, ypred, color=\"blue\")\n",
    "plt.xlabel(\"x\")\n",
    "plt.ylabel(\"y\")\n",
    "plt.title(\"Quadratic relationship between x and y\")\n"
   ]
  },
  {
   "cell_type": "code",
   "execution_count": null,
   "metadata": {
    "id": "W3dHEcc7jPIM"
   },
   "outputs": [],
   "source": []
  }
 ],
 "metadata": {
  "colab": {
   "collapsed_sections": [],
   "name": "student_lec5_linear_regression_quadratic.ipynb",
   "provenance": []
  },
  "kernelspec": {
   "display_name": "Python 3 (ipykernel)",
   "language": "python",
   "name": "python3"
  },
  "language_info": {
   "codemirror_mode": {
    "name": "ipython",
    "version": 3
   },
   "file_extension": ".py",
   "mimetype": "text/x-python",
   "name": "python",
   "nbconvert_exporter": "python",
   "pygments_lexer": "ipython3",
   "version": "3.11.4"
  }
 },
 "nbformat": 4,
 "nbformat_minor": 1
}
