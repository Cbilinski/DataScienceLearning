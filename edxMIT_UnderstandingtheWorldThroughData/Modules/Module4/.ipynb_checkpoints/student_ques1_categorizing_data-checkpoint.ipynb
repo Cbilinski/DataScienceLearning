{
 "cells": [
  {
   "cell_type": "code",
   "execution_count": 3,
   "metadata": {
    "id": "kXSNWktG32oQ"
   },
   "outputs": [],
   "source": [
    "import os\n",
    "import pandas as pd\n"
   ]
  },
  {
   "cell_type": "code",
   "execution_count": 2,
   "metadata": {
    "id": "qf9eliUPcBKi"
   },
   "outputs": [],
   "source": [
    "import matplotlib.pyplot as plt\n",
    "import sklearn.linear_model as lm "
   ]
  },
  {
   "cell_type": "code",
   "execution_count": 4,
   "metadata": {
    "id": "EeUlaiDRXkJI"
   },
   "outputs": [
    {
     "data": {
      "text/html": [
       "<div>\n",
       "<style scoped>\n",
       "    .dataframe tbody tr th:only-of-type {\n",
       "        vertical-align: middle;\n",
       "    }\n",
       "\n",
       "    .dataframe tbody tr th {\n",
       "        vertical-align: top;\n",
       "    }\n",
       "\n",
       "    .dataframe thead th {\n",
       "        text-align: right;\n",
       "    }\n",
       "</style>\n",
       "<table border=\"1\" class=\"dataframe\">\n",
       "  <thead>\n",
       "    <tr style=\"text-align: right;\">\n",
       "      <th></th>\n",
       "      <th>gameId</th>\n",
       "      <th>blueWins</th>\n",
       "      <th>blueKills</th>\n",
       "      <th>blueDeaths</th>\n",
       "      <th>blueTotalGold</th>\n",
       "      <th>blueGoldDiff</th>\n",
       "    </tr>\n",
       "  </thead>\n",
       "  <tbody>\n",
       "    <tr>\n",
       "      <th>0</th>\n",
       "      <td>4519157822</td>\n",
       "      <td>0</td>\n",
       "      <td>9</td>\n",
       "      <td>6</td>\n",
       "      <td>17210</td>\n",
       "      <td>643</td>\n",
       "    </tr>\n",
       "    <tr>\n",
       "      <th>1</th>\n",
       "      <td>4523371949</td>\n",
       "      <td>0</td>\n",
       "      <td>5</td>\n",
       "      <td>5</td>\n",
       "      <td>14712</td>\n",
       "      <td>-2908</td>\n",
       "    </tr>\n",
       "    <tr>\n",
       "      <th>2</th>\n",
       "      <td>4521474530</td>\n",
       "      <td>0</td>\n",
       "      <td>7</td>\n",
       "      <td>11</td>\n",
       "      <td>16113</td>\n",
       "      <td>-1172</td>\n",
       "    </tr>\n",
       "    <tr>\n",
       "      <th>3</th>\n",
       "      <td>4524384067</td>\n",
       "      <td>0</td>\n",
       "      <td>4</td>\n",
       "      <td>5</td>\n",
       "      <td>15157</td>\n",
       "      <td>-1321</td>\n",
       "    </tr>\n",
       "    <tr>\n",
       "      <th>4</th>\n",
       "      <td>4436033771</td>\n",
       "      <td>0</td>\n",
       "      <td>6</td>\n",
       "      <td>6</td>\n",
       "      <td>16400</td>\n",
       "      <td>-1004</td>\n",
       "    </tr>\n",
       "    <tr>\n",
       "      <th>...</th>\n",
       "      <td>...</td>\n",
       "      <td>...</td>\n",
       "      <td>...</td>\n",
       "      <td>...</td>\n",
       "      <td>...</td>\n",
       "      <td>...</td>\n",
       "    </tr>\n",
       "    <tr>\n",
       "      <th>9874</th>\n",
       "      <td>4527873286</td>\n",
       "      <td>1</td>\n",
       "      <td>7</td>\n",
       "      <td>4</td>\n",
       "      <td>17765</td>\n",
       "      <td>2519</td>\n",
       "    </tr>\n",
       "    <tr>\n",
       "      <th>9875</th>\n",
       "      <td>4527797466</td>\n",
       "      <td>1</td>\n",
       "      <td>6</td>\n",
       "      <td>4</td>\n",
       "      <td>16238</td>\n",
       "      <td>782</td>\n",
       "    </tr>\n",
       "    <tr>\n",
       "      <th>9876</th>\n",
       "      <td>4527713716</td>\n",
       "      <td>0</td>\n",
       "      <td>6</td>\n",
       "      <td>7</td>\n",
       "      <td>15903</td>\n",
       "      <td>-2416</td>\n",
       "    </tr>\n",
       "    <tr>\n",
       "      <th>9877</th>\n",
       "      <td>4527628313</td>\n",
       "      <td>0</td>\n",
       "      <td>2</td>\n",
       "      <td>3</td>\n",
       "      <td>14459</td>\n",
       "      <td>-839</td>\n",
       "    </tr>\n",
       "    <tr>\n",
       "      <th>9878</th>\n",
       "      <td>4523772935</td>\n",
       "      <td>1</td>\n",
       "      <td>6</td>\n",
       "      <td>6</td>\n",
       "      <td>16266</td>\n",
       "      <td>927</td>\n",
       "    </tr>\n",
       "  </tbody>\n",
       "</table>\n",
       "<p>9879 rows × 6 columns</p>\n",
       "</div>"
      ],
      "text/plain": [
       "          gameId  blueWins  blueKills  blueDeaths  blueTotalGold  blueGoldDiff\n",
       "0     4519157822         0          9           6          17210           643\n",
       "1     4523371949         0          5           5          14712         -2908\n",
       "2     4521474530         0          7          11          16113         -1172\n",
       "3     4524384067         0          4           5          15157         -1321\n",
       "4     4436033771         0          6           6          16400         -1004\n",
       "...          ...       ...        ...         ...            ...           ...\n",
       "9874  4527873286         1          7           4          17765          2519\n",
       "9875  4527797466         1          6           4          16238           782\n",
       "9876  4527713716         0          6           7          15903         -2416\n",
       "9877  4527628313         0          2           3          14459          -839\n",
       "9878  4523772935         1          6           6          16266           927\n",
       "\n",
       "[9879 rows x 6 columns]"
      ]
     },
     "execution_count": 4,
     "metadata": {},
     "output_type": "execute_result"
    }
   ],
   "source": [
    "df = pd.read_csv(\"Data/league_of_legends.csv\")\n",
    "df"
   ]
  },
  {
   "cell_type": "markdown",
   "metadata": {
    "id": "EiQ-dF-yIAma"
   },
   "source": [
    "## Question 1\n",
    "\n",
    "Identify the histogram, using 30 bins, that matches the blueGoldDiff data column across all the entire dataset."
   ]
  },
  {
   "cell_type": "code",
   "execution_count": 5,
   "metadata": {
    "id": "kRDN8LhqM72k"
   },
   "outputs": [
    {
     "data": {
      "image/png": "[encoded data removed]",
      "text/plain": [
       "<Figure size 1000x600 with 1 Axes>"
      ]
     },
     "metadata": {},
     "output_type": "display_data"
    }
   ],
   "source": [
    "# Plotting histogram\n",
    "plt.figure(figsize=(10, 6))\n",
    "plt.hist(df['blueGoldDiff'], bins=30, color='skyblue', edgecolor='black')\n",
    "plt.title('Histogram of blueGoldDiff')\n",
    "plt.xlabel('Blue Gold Difference')\n",
    "plt.ylabel('Frequency')\n",
    "plt.grid(True)\n",
    "plt.show()"
   ]
  },
  {
   "cell_type": "markdown",
   "metadata": {
    "id": "QSPekzyRP4iY"
   },
   "source": [
    "##Question 2\n",
    "\n",
    "What is the probability that blue will win if blueGoldDiff is less than 0? "
   ]
  },
  {
   "cell_type": "code",
   "execution_count": 9,
   "metadata": {
    "id": "b7uj3Sd3IXFQ"
   },
   "outputs": [
    {
     "name": "stdout",
     "output_type": "stream",
     "text": [
      "Probability that blue team wins when blueGoldDiff is less than 0: 0.28\n"
     ]
    }
   ],
   "source": [
    "# Filter the DataFrame for games where blueGoldDiff is less than 0\n",
    "blue_neg_gold_diff = df[df['blueGoldDiff'] < 0]\n",
    "\n",
    "# Filter the above DataFrame for games where blueWins is 1\n",
    "blue_wins_neg_gold_diff = blue_neg_gold_diff[blue_neg_gold_diff['blueWins'] == 1]\n",
    "\n",
    "# Calculate the probability\n",
    "probability = len(blue_wins_neg_gold_diff) / len(blue_neg_gold_diff)\n",
    "\n",
    "# Report the answer to 2 decimal places\n",
    "probability = round(probability, 2)\n",
    "print(\"Probability that blue team wins when blueGoldDiff is less than 0:\", probability)"
   ]
  },
  {
   "cell_type": "markdown",
   "metadata": {
    "id": "I6BBStfzKo6a"
   },
   "source": [
    "## Question 3\n",
    "Suppose we want to create 3 categories to fine-grain the idea of blue winning: not likely to win, likely to win, and very likely to win. We will call \"not likely to win\" when blueGoldDiff is less than 0.\n",
    "\n",
    "Find a threshold between the \"likely to win\" and \"very likely to win\" categories such that \"very likely to win\" implies that there is more than 90% probability of blue winning the game. Consider only thresholds that are multiples of 500."
   ]
  },
  {
   "cell_type": "code",
   "execution_count": 27,
   "metadata": {
    "id": "OipoGnuECsco"
   },
   "outputs": [
    {
     "name": "stdout",
     "output_type": "stream",
     "text": [
      "Threshold between 'likely to win' and 'very likely to win': 3000\n",
      "Proportion of blue team wins: 0.9031339031339032\n"
     ]
    }
   ],
   "source": [
    "# Calculate the range of blueGoldDiff values where blue team wins\n",
    "blue_wins = df[df['blueWins'] == 1]\n",
    "blue_wins_range = blue_wins['blueGoldDiff'].min(), blue_wins['blueGoldDiff'].max()\n",
    "\n",
    "# Initialize variables\n",
    "threshold = None\n",
    "prob_threshold = None\n",
    "\n",
    "# Find the smallest multiple of 500 greater than 0\n",
    "start_threshold = 500\n",
    "while start_threshold <= blue_wins_range[0]:\n",
    "    start_threshold += 500\n",
    "\n",
    "# Initialize variables to track the number of games above the threshold and blue team wins above the threshold\n",
    "total_games_above_threshold = 0\n",
    "blue_wins_above_threshold = 0\n",
    "\n",
    "# Iterate through multiples of 500 starting from the smallest threshold\n",
    "for i in range(start_threshold // 500, blue_wins_range[1] // 500 + 1):\n",
    "    # Define the threshold\n",
    "    current_threshold = i * 500\n",
    "    \n",
    "    # Filter games where blueGoldDiff is greater than or equal to the current threshold\n",
    "    games_above_threshold = df[df['blueGoldDiff'] >= current_threshold]\n",
    "    \n",
    "    # Count the number of games above the threshold\n",
    "    total_games_above_threshold = len(games_above_threshold)\n",
    "    \n",
    "    # Filter blue team wins above the threshold\n",
    "    blue_wins_above_threshold = games_above_threshold[games_above_threshold['blueWins'] == 1]\n",
    "    \n",
    "    # Count the number of blue team wins above the threshold\n",
    "    total_blue_wins_above_threshold = len(blue_wins_above_threshold)\n",
    "    \n",
    "    # Calculate the proportion of blue team wins\n",
    "    proportion_blue_wins = total_blue_wins_above_threshold / total_games_above_threshold\n",
    "    \n",
    "    # Check if proportion exceeds 90%\n",
    "    if proportion_blue_wins > 0.9:\n",
    "        threshold = current_threshold\n",
    "        prob_threshold = proportion_blue_wins\n",
    "        break\n",
    "\n",
    "# Print the threshold and the proportion of blue team wins\n",
    "print(\"Threshold between 'likely to win' and 'very likely to win':\", threshold)\n",
    "print(\"Proportion of blue team wins:\", prob_threshold)"
   ]
  },
  {
   "cell_type": "markdown",
   "metadata": {
    "id": "XK2X00ZPKZ6E"
   },
   "source": [
    "For the following blueGoldDiff values, select which category (\"not likely to win\", \"likely to win\", or \"very likely to win\") the game falls into in terms of blue winning?\n",
    "\n",
    "* 1200\n",
    "* -300\n",
    "* 4500\n"
   ]
  },
  {
   "cell_type": "code",
   "execution_count": 19,
   "metadata": {},
   "outputs": [
    {
     "name": "stdout",
     "output_type": "stream",
     "text": [
      "Total games greater than 3000 gold diff for blue:  1053\n",
      "Frac won:  0.9031339031339032\n",
      "Frac lost:  0.09686609686609686\n"
     ]
    }
   ],
   "source": [
    "df_blue_wins = df.loc[((df[\"blueWins\"] == 1) & (df[\"blueGoldDiff\"] > 3000))]\n",
    "blue_wins = df_blue_wins[\"blueWins\"].count()\n",
    "df_blue_loses = df.loc[((df[\"blueWins\"] == 0) & (df[\"blueGoldDiff\"] > 3000))]\n",
    "blue_loses = df_blue_loses[\"blueWins\"].count()\n",
    "total_games = blue_wins+blue_loses\n",
    "print(\"Total games greater than 3000 gold diff for blue: \", total_games)\n",
    "print(\"Frac won: \", blue_wins/total_games)\n",
    "print(\"Frac lost: \", blue_loses/total_games)"
   ]
  },
  {
   "cell_type": "code",
   "execution_count": null,
   "metadata": {},
   "outputs": [],
   "source": []
  }
 ],
 "metadata": {
  "colab": {
   "collapsed_sections": [],
   "name": "student_ques1_categorizing_data.ipynb",
   "provenance": []
  },
  "kernelspec": {
   "display_name": "Python 3 (ipykernel)",
   "language": "python",
   "name": "python3"
  },
  "language_info": {
   "codemirror_mode": {
    "name": "ipython",
    "version": 3
   },
   "file_extension": ".py",
   "mimetype": "text/x-python",
   "name": "python",
   "nbconvert_exporter": "python",
   "pygments_lexer": "ipython3",
   "version": "3.11.7"
  }
 },
 "nbformat": 4,
 "nbformat_minor": 4
}
