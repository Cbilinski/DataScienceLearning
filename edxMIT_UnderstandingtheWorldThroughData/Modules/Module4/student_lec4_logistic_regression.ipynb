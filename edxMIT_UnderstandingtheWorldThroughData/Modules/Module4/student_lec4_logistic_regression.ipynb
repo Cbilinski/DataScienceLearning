{
 "cells": [
  {
   "cell_type": "code",
   "execution_count": 1,
   "metadata": {
    "id": "vgYbpWs4NxHD"
   },
   "outputs": [],
   "source": [
    "import warnings\n",
    "warnings.filterwarnings('ignore')\n",
    "\n",
    "import pandas as pd\n",
    "import sklearn.linear_model as lm \n",
    "import matplotlib.pyplot as plt"
   ]
  },
  {
   "cell_type": "markdown",
   "metadata": {
    "id": "LyFygK1XvWhG"
   },
   "source": [
    "## Read the data\n",
    "* 0 means it's labeled as high-sugar\n",
    "* 1 means it's labeled as high-sodium"
   ]
  },
  {
   "cell_type": "code",
   "execution_count": 2,
   "metadata": {
    "colab": {
     "base_uri": "https://localhost:8080/",
     "height": 424
    },
    "executionInfo": {
     "elapsed": 153,
     "status": "ok",
     "timestamp": 1657817450159,
     "user": {
      "displayName": "edX TMMD",
      "userId": "06777248648375615678"
     },
     "user_tz": 240
    },
    "id": "ioUZ9ufzxciK",
    "outputId": "d08c6de4-bd9c-43af-f2fd-f0b6e2a3fee7"
   },
   "outputs": [
    {
     "data": {
      "text/html": [
       "<div>\n",
       "<style scoped>\n",
       "    .dataframe tbody tr th:only-of-type {\n",
       "        vertical-align: middle;\n",
       "    }\n",
       "\n",
       "    .dataframe tbody tr th {\n",
       "        vertical-align: top;\n",
       "    }\n",
       "\n",
       "    .dataframe thead th {\n",
       "        text-align: right;\n",
       "    }\n",
       "</style>\n",
       "<table border=\"1\" class=\"dataframe\">\n",
       "  <thead>\n",
       "    <tr style=\"text-align: right;\">\n",
       "      <th></th>\n",
       "      <th>Sugars</th>\n",
       "      <th>Sodium</th>\n",
       "      <th>Label</th>\n",
       "    </tr>\n",
       "  </thead>\n",
       "  <tbody>\n",
       "    <tr>\n",
       "      <th>0</th>\n",
       "      <td>3</td>\n",
       "      <td>750</td>\n",
       "      <td>1</td>\n",
       "    </tr>\n",
       "    <tr>\n",
       "      <th>1</th>\n",
       "      <td>3</td>\n",
       "      <td>770</td>\n",
       "      <td>1</td>\n",
       "    </tr>\n",
       "    <tr>\n",
       "      <th>2</th>\n",
       "      <td>2</td>\n",
       "      <td>780</td>\n",
       "      <td>1</td>\n",
       "    </tr>\n",
       "    <tr>\n",
       "      <th>3</th>\n",
       "      <td>2</td>\n",
       "      <td>860</td>\n",
       "      <td>1</td>\n",
       "    </tr>\n",
       "    <tr>\n",
       "      <th>4</th>\n",
       "      <td>2</td>\n",
       "      <td>880</td>\n",
       "      <td>1</td>\n",
       "    </tr>\n",
       "    <tr>\n",
       "      <th>...</th>\n",
       "      <td>...</td>\n",
       "      <td>...</td>\n",
       "      <td>...</td>\n",
       "    </tr>\n",
       "    <tr>\n",
       "      <th>209</th>\n",
       "      <td>103</td>\n",
       "      <td>400</td>\n",
       "      <td>0</td>\n",
       "    </tr>\n",
       "    <tr>\n",
       "      <th>210</th>\n",
       "      <td>51</td>\n",
       "      <td>200</td>\n",
       "      <td>0</td>\n",
       "    </tr>\n",
       "    <tr>\n",
       "      <th>211</th>\n",
       "      <td>80</td>\n",
       "      <td>1500</td>\n",
       "      <td>0</td>\n",
       "    </tr>\n",
       "    <tr>\n",
       "      <th>212</th>\n",
       "      <td>70</td>\n",
       "      <td>1100</td>\n",
       "      <td>0</td>\n",
       "    </tr>\n",
       "    <tr>\n",
       "      <th>213</th>\n",
       "      <td>60</td>\n",
       "      <td>700</td>\n",
       "      <td>1</td>\n",
       "    </tr>\n",
       "  </tbody>\n",
       "</table>\n",
       "<p>214 rows × 3 columns</p>\n",
       "</div>"
      ],
      "text/plain": [
       "     Sugars  Sodium  Label\n",
       "0         3     750      1\n",
       "1         3     770      1\n",
       "2         2     780      1\n",
       "3         2     860      1\n",
       "4         2     880      1\n",
       "..      ...     ...    ...\n",
       "209     103     400      0\n",
       "210      51     200      0\n",
       "211      80    1500      0\n",
       "212      70    1100      0\n",
       "213      60     700      1\n",
       "\n",
       "[214 rows x 3 columns]"
      ]
     },
     "execution_count": 2,
     "metadata": {},
     "output_type": "execute_result"
    }
   ],
   "source": [
    "df = pd.read_csv(\"Data/menu.csv\")\n",
    "df "
   ]
  },
  {
   "cell_type": "markdown",
   "metadata": {
    "id": "1xORPe-bTj8Q"
   },
   "source": [
    "## Fit a logistic regression model"
   ]
  },
  {
   "cell_type": "code",
   "execution_count": 3,
   "metadata": {
    "colab": {
     "base_uri": "https://localhost:8080/"
    },
    "executionInfo": {
     "elapsed": 169,
     "status": "ok",
     "timestamp": 1657817460350,
     "user": {
      "displayName": "edX TMMD",
      "userId": "06777248648375615678"
     },
     "user_tz": 240
    },
    "id": "yl2Ks-3Lf0eh",
    "outputId": "3691924c-32f8-4b36-c663-d0d2399334d7"
   },
   "outputs": [
    {
     "name": "stdout",
     "output_type": "stream",
     "text": [
      "0.9953271028037384\n"
     ]
    }
   ],
   "source": [
    "x = df[[\"Sugars\", \"Sodium\"]]\n",
    "y = df[\"Label\"] \n",
    "\n",
    "clf = lm.LogisticRegression()\n",
    "clf.fit(x, y)\n",
    "score = clf.score(x,y)\n",
    "print(score) "
   ]
  },
  {
   "cell_type": "markdown",
   "metadata": {
    "id": "F2wVmKAyTydw"
   },
   "source": [
    "## Make predictions using the model"
   ]
  },
  {
   "cell_type": "code",
   "execution_count": 4,
   "metadata": {
    "colab": {
     "base_uri": "https://localhost:8080/"
    },
    "executionInfo": {
     "elapsed": 166,
     "status": "ok",
     "timestamp": 1657817475597,
     "user": {
      "displayName": "edX TMMD",
      "userId": "06777248648375615678"
     },
     "user_tz": 240
    },
    "id": "xRbBokYCTUfN",
    "outputId": "5a2eb982-b23e-4afc-bd12-cf6229ff2173"
   },
   "outputs": [
    {
     "name": "stdout",
     "output_type": "stream",
     "text": [
      "Prediction for a food with sugar level of 60 and sodium level of 400 : [[0.99857174 0.00142826]]\n",
      "\n",
      "Predictions for two foods: [[0.99857174 0.00142826]\n",
      " [0.3426961  0.6573039 ]]\n"
     ]
    }
   ],
   "source": [
    "x = df[[\"Sugars\", \"Sodium\"]]\n",
    "y = df[\"Label\"] \n",
    "\n",
    "clf = lm.LogisticRegression()\n",
    "clf.fit(x, y)\n",
    "\n",
    "pred = clf.predict_proba([[60, 400]])\n",
    "print('Prediction for a food with sugar level of',60,'and sodium level of',400,':', pred)\n",
    "print()\n",
    "pred = clf.predict_proba([[60, 400], [20, 500]])\n",
    "print('Predictions for two foods:', pred)\n"
   ]
  },
  {
   "cell_type": "code",
   "execution_count": null,
   "metadata": {},
   "outputs": [],
   "source": []
  }
 ],
 "metadata": {
  "colab": {
   "collapsed_sections": [],
   "name": "student_lec4_logistic_regression.ipynb",
   "provenance": [
    {
     "file_id": "1hjIY8-TTrESSeHyXgGk481KqZQNANSmF",
     "timestamp": 1626363410710
    }
   ]
  },
  "kernelspec": {
   "display_name": "Python 3 (ipykernel)",
   "language": "python",
   "name": "python3"
  },
  "language_info": {
   "codemirror_mode": {
    "name": "ipython",
    "version": 3
   },
   "file_extension": ".py",
   "mimetype": "text/x-python",
   "name": "python",
   "nbconvert_exporter": "python",
   "pygments_lexer": "ipython3",
   "version": "3.11.7"
  }
 },
 "nbformat": 4,
 "nbformat_minor": 4
}
