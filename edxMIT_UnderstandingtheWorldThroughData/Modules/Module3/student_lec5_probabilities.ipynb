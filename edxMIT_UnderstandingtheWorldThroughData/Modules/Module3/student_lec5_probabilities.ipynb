{
 "cells": [
  {
   "cell_type": "code",
   "execution_count": 1,
   "metadata": {
    "id": "u5Rc33pzBMXB"
   },
   "outputs": [
    {
     "name": "stdout",
     "output_type": "stream",
     "text": [
      "Capstone\n",
      "Data\n",
      "student_lec2_mean_std.ipynb\n",
      "student_lec5_probabilities.ipynb\n",
      "student_ques1_mean_std_colab.ipynb\n"
     ]
    }
   ],
   "source": [
    "import os\n",
    "!ls"
   ]
  },
  {
   "cell_type": "code",
   "execution_count": 2,
   "metadata": {
    "id": "SaLQ5vKsBlEy"
   },
   "outputs": [],
   "source": [
    "import pandas as pd\n",
    "import matplotlib.pyplot as plt"
   ]
  },
  {
   "cell_type": "markdown",
   "metadata": {
    "id": "_4PT9JSTuyXq"
   },
   "source": [
    "## Read the data\n",
    "The data contains 2 columns\n",
    "* bus wait times between 0 and 60 mins\n",
    "* height data in ft"
   ]
  },
  {
   "cell_type": "code",
   "execution_count": 3,
   "metadata": {
    "colab": {
     "base_uri": "https://localhost:8080/",
     "height": 424
    },
    "executionInfo": {
     "elapsed": 285,
     "status": "ok",
     "timestamp": 1657122332871,
     "user": {
      "displayName": "edX TMMD",
      "userId": "06777248648375615678"
     },
     "user_tz": 240
    },
    "id": "qJ4HxecFBNM6",
    "outputId": "97b4a2dc-2da1-48f9-8523-cd5625733f18"
   },
   "outputs": [
    {
     "data": {
      "text/html": [
       "<div>\n",
       "<style scoped>\n",
       "    .dataframe tbody tr th:only-of-type {\n",
       "        vertical-align: middle;\n",
       "    }\n",
       "\n",
       "    .dataframe tbody tr th {\n",
       "        vertical-align: top;\n",
       "    }\n",
       "\n",
       "    .dataframe thead th {\n",
       "        text-align: right;\n",
       "    }\n",
       "</style>\n",
       "<table border=\"1\" class=\"dataframe\">\n",
       "  <thead>\n",
       "    <tr style=\"text-align: right;\">\n",
       "      <th></th>\n",
       "      <th>Uniform</th>\n",
       "      <th>Gaussian</th>\n",
       "    </tr>\n",
       "  </thead>\n",
       "  <tbody>\n",
       "    <tr>\n",
       "      <th>0</th>\n",
       "      <td>8.06</td>\n",
       "      <td>5.81</td>\n",
       "    </tr>\n",
       "    <tr>\n",
       "      <th>1</th>\n",
       "      <td>50.85</td>\n",
       "      <td>5.85</td>\n",
       "    </tr>\n",
       "    <tr>\n",
       "      <th>2</th>\n",
       "      <td>45.83</td>\n",
       "      <td>5.52</td>\n",
       "    </tr>\n",
       "    <tr>\n",
       "      <th>3</th>\n",
       "      <td>15.30</td>\n",
       "      <td>5.32</td>\n",
       "    </tr>\n",
       "    <tr>\n",
       "      <th>4</th>\n",
       "      <td>29.73</td>\n",
       "      <td>5.24</td>\n",
       "    </tr>\n",
       "    <tr>\n",
       "      <th>...</th>\n",
       "      <td>...</td>\n",
       "      <td>...</td>\n",
       "    </tr>\n",
       "    <tr>\n",
       "      <th>195</th>\n",
       "      <td>11.65</td>\n",
       "      <td>5.56</td>\n",
       "    </tr>\n",
       "    <tr>\n",
       "      <th>196</th>\n",
       "      <td>6.27</td>\n",
       "      <td>5.78</td>\n",
       "    </tr>\n",
       "    <tr>\n",
       "      <th>197</th>\n",
       "      <td>39.96</td>\n",
       "      <td>5.72</td>\n",
       "    </tr>\n",
       "    <tr>\n",
       "      <th>198</th>\n",
       "      <td>17.76</td>\n",
       "      <td>5.42</td>\n",
       "    </tr>\n",
       "    <tr>\n",
       "      <th>199</th>\n",
       "      <td>29.99</td>\n",
       "      <td>5.77</td>\n",
       "    </tr>\n",
       "  </tbody>\n",
       "</table>\n",
       "<p>200 rows × 2 columns</p>\n",
       "</div>"
      ],
      "text/plain": [
       "     Uniform  Gaussian\n",
       "0       8.06      5.81\n",
       "1      50.85      5.85\n",
       "2      45.83      5.52\n",
       "3      15.30      5.32\n",
       "4      29.73      5.24\n",
       "..       ...       ...\n",
       "195    11.65      5.56\n",
       "196     6.27      5.78\n",
       "197    39.96      5.72\n",
       "198    17.76      5.42\n",
       "199    29.99      5.77\n",
       "\n",
       "[200 rows x 2 columns]"
      ]
     },
     "execution_count": 3,
     "metadata": {},
     "output_type": "execute_result"
    }
   ],
   "source": [
    "pd.set_option('display.max_columns', 500)\n",
    "df = pd.read_csv(\"Data/distributions.csv\")\n",
    "df"
   ]
  },
  {
   "cell_type": "markdown",
   "metadata": {
    "id": "3mClRyASJnHH"
   },
   "source": [
    "## Plot the histogram to get a sense of the data"
   ]
  },
  {
   "cell_type": "code",
   "execution_count": 4,
   "metadata": {
    "colab": {
     "base_uri": "https://localhost:8080/",
     "height": 334
    },
    "executionInfo": {
     "elapsed": 301,
     "status": "ok",
     "timestamp": 1657122347996,
     "user": {
      "displayName": "edX TMMD",
      "userId": "06777248648375615678"
     },
     "user_tz": 240
    },
    "id": "1OQeWkyCB3CT",
    "outputId": "e1c658d8-7e03-45af-ae23-e18626f9e6d2"
   },
   "outputs": [
    {
     "data": {
      "text/plain": [
       "(array([ 3.,  4., 11., 28., 36., 53., 30., 25.,  7.,  3.]),\n",
       " array([4.82 , 4.952, 5.084, 5.216, 5.348, 5.48 , 5.612, 5.744, 5.876,\n",
       "        6.008, 6.14 ]),\n",
       " <BarContainer object of 10 artists>)"
      ]
     },
     "execution_count": 4,
     "metadata": {},
     "output_type": "execute_result"
    },
    {
     "data": {
      "image/png": "[encoded data removed]",
      "text/plain": [
       "<Figure size 640x480 with 1 Axes>"
      ]
     },
     "metadata": {},
     "output_type": "display_data"
    }
   ],
   "source": [
    "heights = df[\"Gaussian\"]\n",
    "\n",
    "plt.figure()\n",
    "plt.hist(df[\"Gaussian\"], bins=10)"
   ]
  },
  {
   "cell_type": "markdown",
   "metadata": {
    "id": "qN5dyT3qJt4H"
   },
   "source": [
    "## Write a function to help us count data points within a range"
   ]
  },
  {
   "cell_type": "code",
   "execution_count": 5,
   "metadata": {
    "executionInfo": {
     "elapsed": 307,
     "status": "ok",
     "timestamp": 1657122356001,
     "user": {
      "displayName": "edX TMMD",
      "userId": "06777248648375615678"
     },
     "user_tz": 240
    },
    "id": "GsyiwnZs9-Rv"
   },
   "outputs": [],
   "source": [
    "def count_data(data, low_end, high_end):\n",
    "  count = 0\n",
    "  for i in data:\n",
    "    if low_end <= i <= high_end:\n",
    "      count += 1   \n",
    "  return count"
   ]
  },
  {
   "cell_type": "markdown",
   "metadata": {
    "id": "ecKgTU6wJ1kv"
   },
   "source": [
    "## Probablility of having a height within a range of heights"
   ]
  },
  {
   "cell_type": "code",
   "execution_count": 6,
   "metadata": {
    "colab": {
     "base_uri": "https://localhost:8080/"
    },
    "executionInfo": {
     "elapsed": 267,
     "status": "ok",
     "timestamp": 1657122367884,
     "user": {
      "displayName": "edX TMMD",
      "userId": "06777248648375615678"
     },
     "user_tz": 240
    },
    "id": "Qu1Jo8j_u0Ur",
    "outputId": "4789d426-51f3-4617-a76d-ebb00fbfcdda"
   },
   "outputs": [
    {
     "name": "stdout",
     "output_type": "stream",
     "text": [
      "count within 5.3 and 5.8: 142\n",
      "probability for height within 5.3 and 5.8: 0.71\n"
     ]
    }
   ],
   "source": [
    "n_data = 200\n",
    "\n",
    "# count how many are within 5.3 and 5.8\n",
    "print(\"count within 5.3 and 5.8:\", count_data(heights, 5.3, 5.8))\n",
    "print(\"probability for height within 5.3 and 5.8:\",count_data(heights, 5.3, 5.8)/n_data)"
   ]
  },
  {
   "cell_type": "markdown",
   "metadata": {
    "id": "B_t2iFd1KDHo"
   },
   "source": [
    "## Show the 68-95-97 rule for Gaussian Distributions in our data"
   ]
  },
  {
   "cell_type": "markdown",
   "metadata": {
    "id": "FrG86iQsKTcv"
   },
   "source": [
    "Step 1: Get the mean and standard deviation"
   ]
  },
  {
   "cell_type": "code",
   "execution_count": 7,
   "metadata": {
    "colab": {
     "base_uri": "https://localhost:8080/"
    },
    "executionInfo": {
     "elapsed": 318,
     "status": "ok",
     "timestamp": 1657122383547,
     "user": {
      "displayName": "edX TMMD",
      "userId": "06777248648375615678"
     },
     "user_tz": 240
    },
    "id": "P_zTWK_O0jDD",
    "outputId": "94a6ae6b-8bf6-4bbb-a729-bf93b37d2915"
   },
   "outputs": [
    {
     "name": "stdout",
     "output_type": "stream",
     "text": [
      "heights mean is: 5.51355\n",
      "heights standard deviation is: 0.2328734586394368\n"
     ]
    }
   ],
   "source": [
    "mean = heights.mean()\n",
    "std = heights.std()\n",
    "print(\"heights mean is:\", mean)\n",
    "print(\"heights standard deviation is:\", std) "
   ]
  },
  {
   "cell_type": "markdown",
   "metadata": {
    "id": "yV20t05tKYfs"
   },
   "source": [
    "Step 2: Use our function to count how many data points fall within\n",
    "* +/- 1 stddev\n",
    "* +/- 2 stddev\n",
    "* +/- 3 stddev\n",
    "\n",
    "These values should be close to 68-95-97 percent, respectively!"
   ]
  },
  {
   "cell_type": "code",
   "execution_count": 8,
   "metadata": {
    "colab": {
     "base_uri": "https://localhost:8080/"
    },
    "executionInfo": {
     "elapsed": 304,
     "status": "ok",
     "timestamp": 1657122391339,
     "user": {
      "displayName": "edX TMMD",
      "userId": "06777248648375615678"
     },
     "user_tz": 240
    },
    "id": "BWN0ougO3N_j",
    "outputId": "ec93fb8b-a407-4b98-a50d-101f8b58060d"
   },
   "outputs": [
    {
     "name": "stdout",
     "output_type": "stream",
     "text": [
      "within 1 std: 0.64\n",
      "within 2 std: 0.955\n",
      "within 3 std: 1.0\n"
     ]
    }
   ],
   "source": [
    "# count how many are within +/- stds\n",
    "print(\"within 1 std:\", count_data(heights, mean-std, mean+std)/n_data)\n",
    "print(\"within 2 std:\", count_data(heights, mean-2*std, mean+2*std)/n_data)\n",
    "print(\"within 3 std:\", count_data(heights, mean-3*std, mean+3*std)/n_data) "
   ]
  },
  {
   "cell_type": "markdown",
   "metadata": {
    "id": "tImjyzDbK9zR"
   },
   "source": [
    "Pretty close!"
   ]
  },
  {
   "cell_type": "markdown",
   "metadata": {
    "id": "pFNySfL1Bptn"
   },
   "source": [
    "## What if we have more height data? (200,000 instead of just 200 heights)"
   ]
  },
  {
   "cell_type": "code",
   "execution_count": 13,
   "metadata": {
    "colab": {
     "base_uri": "https://localhost:8080/",
     "height": 424
    },
    "executionInfo": {
     "elapsed": 584,
     "status": "ok",
     "timestamp": 1657122399580,
     "user": {
      "displayName": "edX TMMD",
      "userId": "06777248648375615678"
     },
     "user_tz": 240
    },
    "id": "U0KnJICHBoZ1",
    "outputId": "2356ae42-a965-4ee8-ff44-410622b85113"
   },
   "outputs": [
    {
     "data": {
      "text/html": [
       "<div>\n",
       "<style scoped>\n",
       "    .dataframe tbody tr th:only-of-type {\n",
       "        vertical-align: middle;\n",
       "    }\n",
       "\n",
       "    .dataframe tbody tr th {\n",
       "        vertical-align: top;\n",
       "    }\n",
       "\n",
       "    .dataframe thead th {\n",
       "        text-align: right;\n",
       "    }\n",
       "</style>\n",
       "<table border=\"1\" class=\"dataframe\">\n",
       "  <thead>\n",
       "    <tr style=\"text-align: right;\">\n",
       "      <th></th>\n",
       "      <th>Uniform</th>\n",
       "      <th>Gaussian</th>\n",
       "    </tr>\n",
       "  </thead>\n",
       "  <tbody>\n",
       "    <tr>\n",
       "      <th>0</th>\n",
       "      <td>8.061855</td>\n",
       "      <td>5.809164</td>\n",
       "    </tr>\n",
       "    <tr>\n",
       "      <th>1</th>\n",
       "      <td>50.846024</td>\n",
       "      <td>5.847867</td>\n",
       "    </tr>\n",
       "    <tr>\n",
       "      <th>2</th>\n",
       "      <td>45.826477</td>\n",
       "      <td>5.515921</td>\n",
       "    </tr>\n",
       "    <tr>\n",
       "      <th>3</th>\n",
       "      <td>15.304142</td>\n",
       "      <td>5.316510</td>\n",
       "    </tr>\n",
       "    <tr>\n",
       "      <th>4</th>\n",
       "      <td>29.726105</td>\n",
       "      <td>5.237878</td>\n",
       "    </tr>\n",
       "    <tr>\n",
       "      <th>...</th>\n",
       "      <td>...</td>\n",
       "      <td>...</td>\n",
       "    </tr>\n",
       "    <tr>\n",
       "      <th>99995</th>\n",
       "      <td>16.626213</td>\n",
       "      <td>5.494515</td>\n",
       "    </tr>\n",
       "    <tr>\n",
       "      <th>99996</th>\n",
       "      <td>30.969520</td>\n",
       "      <td>5.409605</td>\n",
       "    </tr>\n",
       "    <tr>\n",
       "      <th>99997</th>\n",
       "      <td>4.149581</td>\n",
       "      <td>5.490791</td>\n",
       "    </tr>\n",
       "    <tr>\n",
       "      <th>99998</th>\n",
       "      <td>28.893560</td>\n",
       "      <td>5.161280</td>\n",
       "    </tr>\n",
       "    <tr>\n",
       "      <th>99999</th>\n",
       "      <td>38.134246</td>\n",
       "      <td>5.539423</td>\n",
       "    </tr>\n",
       "  </tbody>\n",
       "</table>\n",
       "<p>100000 rows × 2 columns</p>\n",
       "</div>"
      ],
      "text/plain": [
       "         Uniform  Gaussian\n",
       "0       8.061855  5.809164\n",
       "1      50.846024  5.847867\n",
       "2      45.826477  5.515921\n",
       "3      15.304142  5.316510\n",
       "4      29.726105  5.237878\n",
       "...          ...       ...\n",
       "99995  16.626213  5.494515\n",
       "99996  30.969520  5.409605\n",
       "99997   4.149581  5.490791\n",
       "99998  28.893560  5.161280\n",
       "99999  38.134246  5.539423\n",
       "\n",
       "[100000 rows x 2 columns]"
      ]
     },
     "execution_count": 13,
     "metadata": {},
     "output_type": "execute_result"
    }
   ],
   "source": [
    "# get the data\n",
    "pd.set_option('display.max_columns', 500)\n",
    "df = pd.read_csv(\"Data/distributions_200000.csv\")\n",
    "df "
   ]
  },
  {
   "cell_type": "code",
   "execution_count": 14,
   "metadata": {
    "colab": {
     "base_uri": "https://localhost:8080/",
     "height": 369
    },
    "executionInfo": {
     "elapsed": 609,
     "status": "ok",
     "timestamp": 1657122407739,
     "user": {
      "displayName": "edX TMMD",
      "userId": "06777248648375615678"
     },
     "user_tz": 240
    },
    "id": "zjLGc7uCB8Z3",
    "outputId": "92c0f2d6-25db-450f-bce9-9f5483149474"
   },
   "outputs": [
    {
     "data": {
      "text/plain": [
       "(array([4.0000e+00, 1.4300e+02, 1.6350e+03, 9.6240e+03, 2.6467e+04,\n",
       "        3.4267e+04, 2.0993e+04, 6.0110e+03, 8.0900e+02, 4.7000e+01]),\n",
       " array([4.34992786, 4.56523996, 4.78055207, 4.99586417, 5.21117627,\n",
       "        5.42648838, 5.64180048, 5.85711258, 6.07242469, 6.28773679,\n",
       "        6.50304889]),\n",
       " <BarContainer object of 10 artists>)"
      ]
     },
     "execution_count": 14,
     "metadata": {},
     "output_type": "execute_result"
    },
    {
     "data": {
      "image/png": "[encoded data removed]",
      "text/plain": [
       "<Figure size 640x480 with 1 Axes>"
      ]
     },
     "metadata": {},
     "output_type": "display_data"
    }
   ],
   "source": [
    "# plot the histogram\n",
    "heights = df[\"Gaussian\"]\n",
    "\n",
    "plt.figure()\n",
    "plt.hist(df[\"Gaussian\"], bins=10) "
   ]
  },
  {
   "cell_type": "code",
   "execution_count": 15,
   "metadata": {
    "colab": {
     "base_uri": "https://localhost:8080/"
    },
    "executionInfo": {
     "elapsed": 275,
     "status": "ok",
     "timestamp": 1657122412618,
     "user": {
      "displayName": "edX TMMD",
      "userId": "06777248648375615678"
     },
     "user_tz": 240
    },
    "id": "l-XSceToCIOM",
    "outputId": "c2e5a6dd-048e-43ca-e486-405e3fb29774"
   },
   "outputs": [
    {
     "name": "stdout",
     "output_type": "stream",
     "text": [
      "heights mean is: 5.500747058407637\n",
      "heights standard deviation is: 0.24007944146996002\n"
     ]
    }
   ],
   "source": [
    "# calculate mean and stddev\n",
    "mean = heights.mean()\n",
    "std = heights.std()\n",
    "print(\"heights mean is:\", mean)\n",
    "print(\"heights standard deviation is:\", std) "
   ]
  },
  {
   "cell_type": "code",
   "execution_count": 17,
   "metadata": {
    "colab": {
     "base_uri": "https://localhost:8080/"
    },
    "executionInfo": {
     "elapsed": 562,
     "status": "ok",
     "timestamp": 1657122417108,
     "user": {
      "displayName": "edX TMMD",
      "userId": "06777248648375615678"
     },
     "user_tz": 240
    },
    "id": "pXTd6vaECKtP",
    "outputId": "1fbf8159-f030-40c3-af21-24f9cf8ec97c"
   },
   "outputs": [
    {
     "name": "stdout",
     "output_type": "stream",
     "text": [
      "within 1 std: 0.68122\n",
      "within 2 std: 0.95495\n",
      "within 3 std: 0.99726\n"
     ]
    }
   ],
   "source": [
    "# count how many are within +/- 1, 2, and 3 stddev\n",
    "n_data = 200000\n",
    "print(\"within 1 std:\", count_data(heights, mean-std, mean+std)/n_data)\n",
    "print(\"within 2 std:\", count_data(heights, mean-2*std, mean+2*std)/n_data)\n",
    "print(\"within 3 std:\", count_data(heights, mean-3*std, mean+3*std)/n_data) "
   ]
  },
  {
   "cell_type": "code",
   "execution_count": null,
   "metadata": {},
   "outputs": [],
   "source": []
  }
 ],
 "metadata": {
  "colab": {
   "collapsed_sections": [],
   "name": "student_lec5_probabilities.ipynb",
   "provenance": []
  },
  "kernelspec": {
   "display_name": "Python 3 (ipykernel)",
   "language": "python",
   "name": "python3"
  },
  "language_info": {
   "codemirror_mode": {
    "name": "ipython",
    "version": 3
   },
   "file_extension": ".py",
   "mimetype": "text/x-python",
   "name": "python",
   "nbconvert_exporter": "python",
   "pygments_lexer": "ipython3",
   "version": "3.11.4"
  }
 },
 "nbformat": 4,
 "nbformat_minor": 1
}
