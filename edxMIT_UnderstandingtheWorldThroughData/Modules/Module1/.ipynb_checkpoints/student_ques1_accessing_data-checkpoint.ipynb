{
 "cells": [
  {
   "cell_type": "markdown",
   "metadata": {
    "id": "H6jG1o8_Kjox"
   },
   "source": [
    "<br>\n",
    "<font size=\"+2\"> In this notebook, we will be working on questions in the Colab Notebooks section in Module 1. </font>\n",
    "<br><br>"
   ]
  },
  {
   "cell_type": "markdown",
   "metadata": {
    "id": "uQRsAkZh3sgc"
   },
   "source": [
    "# Questions on Accessing Data"
   ]
  },
  {
   "cell_type": "markdown",
   "metadata": {
    "id": "J1-11tCt334I"
   },
   "source": [
    "\n",
    "\n",
    "Let's take a break from learning basic pandas commands and have you practice what you've learned so far. To do this, we will work in this new Colab notebook.\n",
    "<br><br>\n",
    "In this notebook, you will read the `city_temperature.csv` datafile; the format of this datafile is the same as the temperature datafile we were using in the video, it just has many more data points because it includes temperature data for the entire world (i.e. rows). "
   ]
  },
  {
   "cell_type": "code",
   "execution_count": 6,
   "metadata": {},
   "outputs": [
    {
     "data": {
      "text/plain": [
       "'C:\\\\Users\\\\Cbilinski\\\\Desktop\\\\DataScienceStuff\\\\Classes\\\\edxMIT_UnderstandingtheWorldThroughData\\\\Modules\\\\Module1'"
      ]
     },
     "execution_count": 6,
     "metadata": {},
     "output_type": "execute_result"
    }
   ],
   "source": [
    "pwd"
   ]
  },
  {
   "cell_type": "markdown",
   "metadata": {
    "id": "nsDdywnz4NQT"
   },
   "source": [
    "<font color='#FF4500' size=\"+2\"> To set up your DataFrame for these questions, run the cell below. </font>"
   ]
  },
  {
   "cell_type": "code",
   "execution_count": 7,
   "metadata": {
    "id": "kXSNWktG32oQ"
   },
   "outputs": [
    {
     "name": "stderr",
     "output_type": "stream",
     "text": [
      "C:\\Users\\Cbilinski\\AppData\\Local\\Temp\\ipykernel_6856\\2726112131.py:2: DtypeWarning: Columns (2) have mixed types. Specify dtype option on import or set low_memory=False.\n",
      "  df2 = pd.read_csv(\"Data/city_temperature.csv\")\n"
     ]
    }
   ],
   "source": [
    "import pandas as pd\n",
    "df2 = pd.read_csv(\"Data/city_temperature.csv\")"
   ]
  },
  {
   "cell_type": "markdown",
   "metadata": {
    "id": "UciqODhH4WFq"
   },
   "source": [
    "## Question 1\n",
    "\n",
    "What's the name of the country at row number 1000000?"
   ]
  },
  {
   "cell_type": "code",
   "execution_count": 8,
   "metadata": {
    "id": "hpvNRPgC4jCw"
   },
   "outputs": [
    {
     "data": {
      "text/plain": [
       "Region                Europe\n",
       "Country           Yugoslavia\n",
       "State                    NaN\n",
       "City                Belgrade\n",
       "Month                      9\n",
       "Day                        4\n",
       "Year                    2005\n",
       "AvgTemperature          64.8\n",
       "Name: 1000000, dtype: object"
      ]
     },
     "execution_count": 8,
     "metadata": {},
     "output_type": "execute_result"
    }
   ],
   "source": [
    "df2.loc[1000000]"
   ]
  },
  {
   "cell_type": "markdown",
   "metadata": {
    "id": "ibDgcUM84kKN"
   },
   "source": [
    "## Question 2\n",
    "\n",
    "What is the name of the city that comes last alphabetically?"
   ]
  },
  {
   "cell_type": "code",
   "execution_count": 11,
   "metadata": {
    "id": "Qc58Zei-4uXo",
    "scrolled": true
   },
   "outputs": [
    {
     "data": {
      "text/plain": [
       "<bound method NDFrame.tail of         Region      Country State     City  Month  Day  Year  AvgTemperature\n",
       "97950   Africa  Ivory Coast   NaN  Abidjan     12   22  1998            79.2\n",
       "98614   Africa  Ivory Coast   NaN  Abidjan     10   16  2000            78.1\n",
       "98615   Africa  Ivory Coast   NaN  Abidjan     10   17  2000            77.7\n",
       "98616   Africa  Ivory Coast   NaN  Abidjan     10   18  2000            79.0\n",
       "98617   Africa  Ivory Coast   NaN  Abidjan     10   19  2000            79.2\n",
       "...        ...          ...   ...      ...    ...  ...   ...             ...\n",
       "968114  Europe  Switzerland   NaN   Zurich     11    7  2019            41.3\n",
       "968113  Europe  Switzerland   NaN   Zurich     11    6  2019            44.6\n",
       "968112  Europe  Switzerland   NaN   Zurich     11    5  2019            46.5\n",
       "968164  Europe  Switzerland   NaN   Zurich     12   27  2019            40.8\n",
       "961942  Europe  Switzerland   NaN   Zurich     12   15  2002            39.3\n",
       "\n",
       "[2906327 rows x 8 columns]>"
      ]
     },
     "execution_count": 11,
     "metadata": {},
     "output_type": "execute_result"
    }
   ],
   "source": [
    "df_sorted = df2.sort_values(\"City\")"
   ]
  },
  {
   "cell_type": "code",
   "execution_count": 18,
   "metadata": {},
   "outputs": [
    {
     "data": {
      "text/html": [
       "<div>\n",
       "<style scoped>\n",
       "    .dataframe tbody tr th:only-of-type {\n",
       "        vertical-align: middle;\n",
       "    }\n",
       "\n",
       "    .dataframe tbody tr th {\n",
       "        vertical-align: top;\n",
       "    }\n",
       "\n",
       "    .dataframe thead th {\n",
       "        text-align: right;\n",
       "    }\n",
       "</style>\n",
       "<table border=\"1\" class=\"dataframe\">\n",
       "  <thead>\n",
       "    <tr style=\"text-align: right;\">\n",
       "      <th></th>\n",
       "      <th>Region</th>\n",
       "      <th>Country</th>\n",
       "      <th>State</th>\n",
       "      <th>City</th>\n",
       "      <th>Month</th>\n",
       "      <th>Day</th>\n",
       "      <th>Year</th>\n",
       "      <th>AvgTemperature</th>\n",
       "    </tr>\n",
       "  </thead>\n",
       "  <tbody>\n",
       "    <tr>\n",
       "      <th>968114</th>\n",
       "      <td>Europe</td>\n",
       "      <td>Switzerland</td>\n",
       "      <td>NaN</td>\n",
       "      <td>Zurich</td>\n",
       "      <td>11</td>\n",
       "      <td>7</td>\n",
       "      <td>2019</td>\n",
       "      <td>41.3</td>\n",
       "    </tr>\n",
       "    <tr>\n",
       "      <th>968113</th>\n",
       "      <td>Europe</td>\n",
       "      <td>Switzerland</td>\n",
       "      <td>NaN</td>\n",
       "      <td>Zurich</td>\n",
       "      <td>11</td>\n",
       "      <td>6</td>\n",
       "      <td>2019</td>\n",
       "      <td>44.6</td>\n",
       "    </tr>\n",
       "    <tr>\n",
       "      <th>968112</th>\n",
       "      <td>Europe</td>\n",
       "      <td>Switzerland</td>\n",
       "      <td>NaN</td>\n",
       "      <td>Zurich</td>\n",
       "      <td>11</td>\n",
       "      <td>5</td>\n",
       "      <td>2019</td>\n",
       "      <td>46.5</td>\n",
       "    </tr>\n",
       "    <tr>\n",
       "      <th>968164</th>\n",
       "      <td>Europe</td>\n",
       "      <td>Switzerland</td>\n",
       "      <td>NaN</td>\n",
       "      <td>Zurich</td>\n",
       "      <td>12</td>\n",
       "      <td>27</td>\n",
       "      <td>2019</td>\n",
       "      <td>40.8</td>\n",
       "    </tr>\n",
       "    <tr>\n",
       "      <th>961942</th>\n",
       "      <td>Europe</td>\n",
       "      <td>Switzerland</td>\n",
       "      <td>NaN</td>\n",
       "      <td>Zurich</td>\n",
       "      <td>12</td>\n",
       "      <td>15</td>\n",
       "      <td>2002</td>\n",
       "      <td>39.3</td>\n",
       "    </tr>\n",
       "  </tbody>\n",
       "</table>\n",
       "</div>"
      ],
      "text/plain": [
       "        Region      Country State    City  Month  Day  Year  AvgTemperature\n",
       "968114  Europe  Switzerland   NaN  Zurich     11    7  2019            41.3\n",
       "968113  Europe  Switzerland   NaN  Zurich     11    6  2019            44.6\n",
       "968112  Europe  Switzerland   NaN  Zurich     11    5  2019            46.5\n",
       "968164  Europe  Switzerland   NaN  Zurich     12   27  2019            40.8\n",
       "961942  Europe  Switzerland   NaN  Zurich     12   15  2002            39.3"
      ]
     },
     "execution_count": 18,
     "metadata": {},
     "output_type": "execute_result"
    }
   ],
   "source": [
    "df_sorted.tail(5)"
   ]
  },
  {
   "cell_type": "markdown",
   "metadata": {
    "id": "7amUQA4n5DQw"
   },
   "source": [
    "## Question 3\n",
    "\n",
    "How many data points are there in the US? "
   ]
  },
  {
   "cell_type": "code",
   "execution_count": 23,
   "metadata": {
    "id": "lIp8rzV95KdA"
   },
   "outputs": [
    {
     "data": {
      "text/html": [
       "<div>\n",
       "<style scoped>\n",
       "    .dataframe tbody tr th:only-of-type {\n",
       "        vertical-align: middle;\n",
       "    }\n",
       "\n",
       "    .dataframe tbody tr th {\n",
       "        vertical-align: top;\n",
       "    }\n",
       "\n",
       "    .dataframe thead th {\n",
       "        text-align: right;\n",
       "    }\n",
       "</style>\n",
       "<table border=\"1\" class=\"dataframe\">\n",
       "  <thead>\n",
       "    <tr style=\"text-align: right;\">\n",
       "      <th></th>\n",
       "      <th>Region</th>\n",
       "      <th>Country</th>\n",
       "      <th>State</th>\n",
       "      <th>City</th>\n",
       "      <th>Month</th>\n",
       "      <th>Day</th>\n",
       "      <th>Year</th>\n",
       "      <th>AvgTemperature</th>\n",
       "    </tr>\n",
       "  </thead>\n",
       "  <tbody>\n",
       "    <tr>\n",
       "      <th>1450990</th>\n",
       "      <td>North America</td>\n",
       "      <td>US</td>\n",
       "      <td>Alabama</td>\n",
       "      <td>Birmingham</td>\n",
       "      <td>1</td>\n",
       "      <td>1</td>\n",
       "      <td>1995</td>\n",
       "      <td>50.7</td>\n",
       "    </tr>\n",
       "    <tr>\n",
       "      <th>1450991</th>\n",
       "      <td>North America</td>\n",
       "      <td>US</td>\n",
       "      <td>Alabama</td>\n",
       "      <td>Birmingham</td>\n",
       "      <td>1</td>\n",
       "      <td>2</td>\n",
       "      <td>1995</td>\n",
       "      <td>37.2</td>\n",
       "    </tr>\n",
       "    <tr>\n",
       "      <th>1450992</th>\n",
       "      <td>North America</td>\n",
       "      <td>US</td>\n",
       "      <td>Alabama</td>\n",
       "      <td>Birmingham</td>\n",
       "      <td>1</td>\n",
       "      <td>3</td>\n",
       "      <td>1995</td>\n",
       "      <td>33.2</td>\n",
       "    </tr>\n",
       "    <tr>\n",
       "      <th>1450993</th>\n",
       "      <td>North America</td>\n",
       "      <td>US</td>\n",
       "      <td>Alabama</td>\n",
       "      <td>Birmingham</td>\n",
       "      <td>1</td>\n",
       "      <td>4</td>\n",
       "      <td>1995</td>\n",
       "      <td>33.3</td>\n",
       "    </tr>\n",
       "    <tr>\n",
       "      <th>1450994</th>\n",
       "      <td>North America</td>\n",
       "      <td>US</td>\n",
       "      <td>Alabama</td>\n",
       "      <td>Birmingham</td>\n",
       "      <td>1</td>\n",
       "      <td>5</td>\n",
       "      <td>1995</td>\n",
       "      <td>26.4</td>\n",
       "    </tr>\n",
       "    <tr>\n",
       "      <th>...</th>\n",
       "      <td>...</td>\n",
       "      <td>...</td>\n",
       "      <td>...</td>\n",
       "      <td>...</td>\n",
       "      <td>...</td>\n",
       "      <td>...</td>\n",
       "      <td>...</td>\n",
       "      <td>...</td>\n",
       "    </tr>\n",
       "    <tr>\n",
       "      <th>2906322</th>\n",
       "      <td>North America</td>\n",
       "      <td>US</td>\n",
       "      <td>Additional Territories</td>\n",
       "      <td>San Juan Puerto Rico</td>\n",
       "      <td>7</td>\n",
       "      <td>27</td>\n",
       "      <td>2013</td>\n",
       "      <td>82.4</td>\n",
       "    </tr>\n",
       "    <tr>\n",
       "      <th>2906323</th>\n",
       "      <td>North America</td>\n",
       "      <td>US</td>\n",
       "      <td>Additional Territories</td>\n",
       "      <td>San Juan Puerto Rico</td>\n",
       "      <td>7</td>\n",
       "      <td>28</td>\n",
       "      <td>2013</td>\n",
       "      <td>81.6</td>\n",
       "    </tr>\n",
       "    <tr>\n",
       "      <th>2906324</th>\n",
       "      <td>North America</td>\n",
       "      <td>US</td>\n",
       "      <td>Additional Territories</td>\n",
       "      <td>San Juan Puerto Rico</td>\n",
       "      <td>7</td>\n",
       "      <td>29</td>\n",
       "      <td>2013</td>\n",
       "      <td>84.2</td>\n",
       "    </tr>\n",
       "    <tr>\n",
       "      <th>2906325</th>\n",
       "      <td>North America</td>\n",
       "      <td>US</td>\n",
       "      <td>Additional Territories</td>\n",
       "      <td>San Juan Puerto Rico</td>\n",
       "      <td>7</td>\n",
       "      <td>30</td>\n",
       "      <td>2013</td>\n",
       "      <td>83.8</td>\n",
       "    </tr>\n",
       "    <tr>\n",
       "      <th>2906326</th>\n",
       "      <td>North America</td>\n",
       "      <td>US</td>\n",
       "      <td>Additional Territories</td>\n",
       "      <td>San Juan Puerto Rico</td>\n",
       "      <td>7</td>\n",
       "      <td>31</td>\n",
       "      <td>2013</td>\n",
       "      <td>83.6</td>\n",
       "    </tr>\n",
       "  </tbody>\n",
       "</table>\n",
       "<p>1455337 rows × 8 columns</p>\n",
       "</div>"
      ],
      "text/plain": [
       "                Region Country                   State                  City  \\\n",
       "1450990  North America      US                 Alabama            Birmingham   \n",
       "1450991  North America      US                 Alabama            Birmingham   \n",
       "1450992  North America      US                 Alabama            Birmingham   \n",
       "1450993  North America      US                 Alabama            Birmingham   \n",
       "1450994  North America      US                 Alabama            Birmingham   \n",
       "...                ...     ...                     ...                   ...   \n",
       "2906322  North America      US  Additional Territories  San Juan Puerto Rico   \n",
       "2906323  North America      US  Additional Territories  San Juan Puerto Rico   \n",
       "2906324  North America      US  Additional Territories  San Juan Puerto Rico   \n",
       "2906325  North America      US  Additional Territories  San Juan Puerto Rico   \n",
       "2906326  North America      US  Additional Territories  San Juan Puerto Rico   \n",
       "\n",
       "         Month  Day  Year  AvgTemperature  \n",
       "1450990      1    1  1995            50.7  \n",
       "1450991      1    2  1995            37.2  \n",
       "1450992      1    3  1995            33.2  \n",
       "1450993      1    4  1995            33.3  \n",
       "1450994      1    5  1995            26.4  \n",
       "...        ...  ...   ...             ...  \n",
       "2906322      7   27  2013            82.4  \n",
       "2906323      7   28  2013            81.6  \n",
       "2906324      7   29  2013            84.2  \n",
       "2906325      7   30  2013            83.8  \n",
       "2906326      7   31  2013            83.6  \n",
       "\n",
       "[1455337 rows x 8 columns]"
      ]
     },
     "execution_count": 23,
     "metadata": {},
     "output_type": "execute_result"
    }
   ],
   "source": [
    "df2.loc[(df2['Country'] == 'US')]"
   ]
  },
  {
   "cell_type": "markdown",
   "metadata": {
    "id": "cutpG1GW5LZc"
   },
   "source": [
    "## Question 4\n",
    "\n",
    "What is the highest temperature in the dataset?"
   ]
  },
  {
   "cell_type": "code",
   "execution_count": 24,
   "metadata": {
    "id": "c5pFJ6x_5Uas"
   },
   "outputs": [
    {
     "data": {
      "text/plain": [
       "110.0"
      ]
     },
     "execution_count": 24,
     "metadata": {},
     "output_type": "execute_result"
    }
   ],
   "source": [
    "df2['AvgTemperature'].max()"
   ]
  },
  {
   "cell_type": "markdown",
   "metadata": {
    "id": "Uj-DlFhf5VYk"
   },
   "source": [
    "## Question 5\n",
    "\n",
    "What is the lowest temperature in the US? This dataset uses -99 as the temperature for missing values. Find the minimum temperature ignoring -99."
   ]
  },
  {
   "cell_type": "code",
   "execution_count": 28,
   "metadata": {
    "id": "hiykwDLW5f87"
   },
   "outputs": [
    {
     "data": {
      "text/plain": [
       "-50.0"
      ]
     },
     "execution_count": 28,
     "metadata": {},
     "output_type": "execute_result"
    }
   ],
   "source": [
    "df2[df2['AvgTemperature'] != -99]['AvgTemperature'].min()"
   ]
  },
  {
   "cell_type": "markdown",
   "metadata": {
    "id": "jI8NgDEd5hpZ"
   },
   "source": [
    "## Question 6\n",
    "\n",
    "What is the average August temperature in Beijing?"
   ]
  },
  {
   "cell_type": "code",
   "execution_count": 37,
   "metadata": {
    "id": "EsUlUrN95lnW"
   },
   "outputs": [
    {
     "data": {
      "text/plain": [
       "77.9541935483871"
      ]
     },
     "execution_count": 37,
     "metadata": {},
     "output_type": "execute_result"
    }
   ],
   "source": [
    "df2[(df2['City'] == 'Beijing') & (df2['Month'] == 8)]['AvgTemperature'].mean()"
   ]
  },
  {
   "cell_type": "markdown",
   "metadata": {
    "id": "VbYJRXBX5miW"
   },
   "source": [
    "## Question 7\n",
    "\n",
    "What is the city with the highest temperature?"
   ]
  },
  {
   "cell_type": "code",
   "execution_count": 40,
   "metadata": {
    "id": "Wer-8l135rBC"
   },
   "outputs": [
    {
     "data": {
      "text/html": [
       "<div>\n",
       "<style scoped>\n",
       "    .dataframe tbody tr th:only-of-type {\n",
       "        vertical-align: middle;\n",
       "    }\n",
       "\n",
       "    .dataframe tbody tr th {\n",
       "        vertical-align: top;\n",
       "    }\n",
       "\n",
       "    .dataframe thead th {\n",
       "        text-align: right;\n",
       "    }\n",
       "</style>\n",
       "<table border=\"1\" class=\"dataframe\">\n",
       "  <thead>\n",
       "    <tr style=\"text-align: right;\">\n",
       "      <th></th>\n",
       "      <th>Region</th>\n",
       "      <th>Country</th>\n",
       "      <th>State</th>\n",
       "      <th>City</th>\n",
       "      <th>Month</th>\n",
       "      <th>Day</th>\n",
       "      <th>Year</th>\n",
       "      <th>AvgTemperature</th>\n",
       "    </tr>\n",
       "  </thead>\n",
       "  <tbody>\n",
       "    <tr>\n",
       "      <th>1034962</th>\n",
       "      <td>Middle East</td>\n",
       "      <td>Kuwait</td>\n",
       "      <td>NaN</td>\n",
       "      <td>Kuwait</td>\n",
       "      <td>8</td>\n",
       "      <td>1</td>\n",
       "      <td>2012</td>\n",
       "      <td>110.0</td>\n",
       "    </tr>\n",
       "  </tbody>\n",
       "</table>\n",
       "</div>"
      ],
      "text/plain": [
       "              Region Country State    City  Month  Day  Year  AvgTemperature\n",
       "1034962  Middle East  Kuwait   NaN  Kuwait      8    1  2012           110.0"
      ]
     },
     "execution_count": 40,
     "metadata": {},
     "output_type": "execute_result"
    }
   ],
   "source": [
    "df2[df2['AvgTemperature'] == df2['AvgTemperature'].max()]"
   ]
  },
  {
   "cell_type": "markdown",
   "metadata": {
    "id": "Z9Azw10n5r6F"
   },
   "source": [
    "## Question 8\n",
    "\n",
    "In which year was the temperature in May the highest?"
   ]
  },
  {
   "cell_type": "code",
   "execution_count": 47,
   "metadata": {
    "id": "GpL1iDS15xly"
   },
   "outputs": [
    {
     "data": {
      "text/html": [
       "<div>\n",
       "<style scoped>\n",
       "    .dataframe tbody tr th:only-of-type {\n",
       "        vertical-align: middle;\n",
       "    }\n",
       "\n",
       "    .dataframe tbody tr th {\n",
       "        vertical-align: top;\n",
       "    }\n",
       "\n",
       "    .dataframe thead th {\n",
       "        text-align: right;\n",
       "    }\n",
       "</style>\n",
       "<table border=\"1\" class=\"dataframe\">\n",
       "  <thead>\n",
       "    <tr style=\"text-align: right;\">\n",
       "      <th></th>\n",
       "      <th>Region</th>\n",
       "      <th>Country</th>\n",
       "      <th>State</th>\n",
       "      <th>City</th>\n",
       "      <th>Month</th>\n",
       "      <th>Day</th>\n",
       "      <th>Year</th>\n",
       "      <th>AvgTemperature</th>\n",
       "    </tr>\n",
       "  </thead>\n",
       "  <tbody>\n",
       "    <tr>\n",
       "      <th>1030148</th>\n",
       "      <td>Middle East</td>\n",
       "      <td>Kuwait</td>\n",
       "      <td>NaN</td>\n",
       "      <td>Kuwait</td>\n",
       "      <td>5</td>\n",
       "      <td>28</td>\n",
       "      <td>1999</td>\n",
       "      <td>104.9</td>\n",
       "    </tr>\n",
       "  </tbody>\n",
       "</table>\n",
       "</div>"
      ],
      "text/plain": [
       "              Region Country State    City  Month  Day  Year  AvgTemperature\n",
       "1030148  Middle East  Kuwait   NaN  Kuwait      5   28  1999           104.9"
      ]
     },
     "execution_count": 47,
     "metadata": {},
     "output_type": "execute_result"
    }
   ],
   "source": [
    "df2[(df2['AvgTemperature'] == df2[(df2['Month'] == 5)]['AvgTemperature'].max()) & (df2['Month'] == 5)]"
   ]
  },
  {
   "cell_type": "markdown",
   "metadata": {
    "id": "kiasDB745ynI"
   },
   "source": [
    "In which city was the temperature in May the highest?"
   ]
  },
  {
   "cell_type": "code",
   "execution_count": null,
   "metadata": {
    "id": "J3KS3De151LF"
   },
   "outputs": [],
   "source": [
    "# Your code here (hint: make use of the code from the previous question)"
   ]
  }
 ],
 "metadata": {
  "colab": {
   "collapsed_sections": [],
   "name": "student_ques1_accessing_data.ipynb",
   "provenance": []
  },
  "kernelspec": {
   "display_name": "Python 3 (ipykernel)",
   "language": "python",
   "name": "python3"
  },
  "language_info": {
   "codemirror_mode": {
    "name": "ipython",
    "version": 3
   },
   "file_extension": ".py",
   "mimetype": "text/x-python",
   "name": "python",
   "nbconvert_exporter": "python",
   "pygments_lexer": "ipython3",
   "version": "3.11.4"
  }
 },
 "nbformat": 4,
 "nbformat_minor": 1
}
